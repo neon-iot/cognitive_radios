{
 "cells": [
  {
   "cell_type": "code",
   "execution_count": null,
   "id": "bearing-genesis",
   "metadata": {},
   "outputs": [],
   "source": [
    "import ipywidgets as widgets\n",
    "import matplotlib.pyplot as plt\n",
    "import numpy as np\n",
    "import pandas as pd\n",
    "%matplotlib widget\n",
    "\n",
    "layout = widgets.Layout(align_items = 'center')"
   ]
  },
  {
   "cell_type": "markdown",
   "id": "classified-philosophy",
   "metadata": {},
   "source": [
    "<h1>REGRESIÓN LOGÍSTICA</h1>\n",
    "<h2>SET DE DATOS</h2>  "
   ]
  },
  {
   "cell_type": "code",
   "execution_count": null,
   "id": "royal-yugoslavia",
   "metadata": {},
   "outputs": [],
   "source": [
    "dfHelados = pd.read_csv('helados.csv')\n",
    "dfHelados.head(5)"
   ]
  },
  {
   "cell_type": "markdown",
   "id": "clinical-asset",
   "metadata": {},
   "source": [
    "Se utilizarán las columnas correspondientes al ingreso de las familias, el precio del helado y la temperatura del día para intentar <strong>predecir si la cantidad de helado consumido fue grande o no</strong>."
   ]
  },
  {
   "cell_type": "markdown",
   "id": "earlier-origin",
   "metadata": {},
   "source": [
    "<h2>GRADIENTE DESCENDENTE</h2>     \n",
    "<ol>\n",
    "    <li>Normalización y escalamiento de las variables de entrada:\n",
    "         $$\n",
    "            x_i := \\frac{x_i-\\mu_i}{\\sigma}\n",
    "         $$\n",
    "    </li>\n",
    "</ol>"
   ]
  },
  {
   "cell_type": "code",
   "execution_count": null,
   "id": "cognitive-psychiatry",
   "metadata": {},
   "outputs": [],
   "source": [
    "col_mask = ['income', 'price', 'temp']\n",
    "dfHelados2 = dfHelados.loc[:, col_mask]\n",
    "dfH_norm = (dfHelados2 - dfHelados2.mean(axis = 0)) / dfHelados2.std(axis = 0)  \n",
    "dfH_norm.head(5)"
   ]
  },
  {
   "cell_type": "markdown",
   "id": "worse-candle",
   "metadata": {},
   "source": [
    "<ol start=\"2\">\n",
    "    <li>Conformación de la matriz X a partir de las variables de entrada normalizadas:\n",
    "         $$\n",
    "           \\begin{bmatrix}\n",
    "            1\\quad x_1^0\\quad x_2^0\\quad x_3^0\\\\\n",
    "            1\\quad x_1^1\\quad x_2^1\\quad x_3^1\\\\\n",
    "            ... \\\\\n",
    "            1\\quad x_1^m\\quad x_2^m\\quad x_3^m\n",
    "           \\end{bmatrix}\n",
    "        $$\n",
    "    </li>\n",
    "</ol>"
   ]
  },
  {
   "cell_type": "code",
   "execution_count": null,
   "id": "desperate-fossil",
   "metadata": {},
   "outputs": [],
   "source": [
    "X_test = dfH_norm.values\n",
    "x0_logR = np.ones(shape = (X_test.shape[0],1))\n",
    "X_logR = np.hstack((x0_logR, X_test))"
   ]
  },
  {
   "cell_type": "markdown",
   "id": "clinical-repair",
   "metadata": {},
   "source": [
    "<ol start=\"3\">\n",
    "    <li>Conformación del vector de valores de salida:\n",
    "        $$\n",
    "        \\begin{bmatrix}\n",
    "            y^0\\\\\n",
    "            y^1\\\\\n",
    "            ... \\\\\n",
    "            y^m\n",
    "        \\end{bmatrix}\n",
    "        $$\n",
    "    </li>\n",
    "</ol>"
   ]
  },
  {
   "cell_type": "code",
   "execution_count": null,
   "id": "domestic-naples",
   "metadata": {},
   "outputs": [],
   "source": [
    "Y_test = dfHelados.loc[:,'bigCons'].values\n",
    "Y_logR = Y_test.reshape(-1, 1)"
   ]
  },
  {
   "cell_type": "markdown",
   "id": "oriented-funeral",
   "metadata": {},
   "source": [
    "<ol start=\"4\">\n",
    "    <li>Selección del parámetro $\\alpha$\n",
    "    </li>\n",
    "</ol>"
   ]
  },
  {
   "cell_type": "code",
   "execution_count": null,
   "id": "coastal-vault",
   "metadata": {},
   "outputs": [],
   "source": [
    "a_slider_logR = widgets.FloatSlider(min = 0,max = 1,step = 0.001,value = 0.5,description = r'$\\alpha$')"
   ]
  },
  {
   "cell_type": "markdown",
   "id": "cheap-consequence",
   "metadata": {},
   "source": [
    "<ol start=\"5\">\n",
    "    <li>Aplicación del algoritmo iterativo de gradiente descendente:\n",
    "        $$\n",
    "        \\theta_j := \\theta_j - \\alpha \\frac{\\partial}{\\partial\\theta_j}J(\\theta_0, \\theta_1)\n",
    "        $$\n",
    "    </li>\n",
    "</ol>"
   ]
  },
  {
   "cell_type": "code",
   "execution_count": null,
   "id": "adult-track",
   "metadata": {},
   "outputs": [],
   "source": [
    "def plot_J_logR(alpha,X,Y):\n",
    "    m = X.shape[0]\n",
    "   \n",
    "    t = np.zeros(shape = (X.shape[1],1))\n",
    "     \n",
    "    J = np.array([])\n",
    "\n",
    "    for i in range(0,200):\n",
    "        z = X.dot(t[:,i])\n",
    "        h =  1 / (1 + np.exp(-z))\n",
    "        h = h.reshape(-1, 1)\n",
    "        logH = np.log(h) \n",
    "        log1_H = np.log(1 - h +  1e-7)  # Para evitar conflictos en el cálculo del logaritmo de 0 se suma un valor pequeño\n",
    "        J = np.append(J, -1/m * (Y.T.dot(logH) + (1 - Y).T.dot(log1_H)))\n",
    "        t_temp = np.array([]) \n",
    "        for j in range(0,t.shape[0]):\n",
    "            t_temp = np.append(t_temp, t[j,i] - alpha/m * (X[:,j].reshape(1, -1).dot(h - Y)))\n",
    "        t = np.hstack((t,t_temp.reshape(-1, 1)))\n",
    "    return t, J\n",
    "    "
   ]
  },
  {
   "cell_type": "markdown",
   "id": "latest-flexibility",
   "metadata": {},
   "source": [
    "<ol start=\"6\">\n",
    "    <li>Cálculo de los valores de salida predichos:\n",
    "        $$\n",
    "            h_{\\theta}(x)=\\theta_0x_0+\\theta_1x_1+\\theta_2x_2+\\theta_3x_3\n",
    "        $$\n",
    "    </li>\n",
    "</ol>"
   ]
  },
  {
   "cell_type": "code",
   "execution_count": null,
   "id": "oriental-collection",
   "metadata": {},
   "outputs": [],
   "source": [
    "def h_logR_value(t,X):\n",
    "    z = X.dot(t[:,-1])\n",
    "    h =  1 / (1 + np.exp(-z))\n",
    "    h = (h >= 0.5) * 1\n",
    "    return h"
   ]
  },
  {
   "cell_type": "code",
   "execution_count": null,
   "id": "83391e49-85d9-4edc-b4c7-dee7f8b40f41",
   "metadata": {},
   "outputs": [],
   "source": [
    "plots_logR = widgets.Output()\n",
    "\n",
    "with plots_logR:\n",
    "    fig_gd, axs_gd = plt.subplots(3,1,figsize = (7,8),tight_layout = True)\n",
    "    fig_gd.suptitle(r'Gradiente descendente')\n",
    "    \n",
    "    axs_gd[1].set_title(fr'Variación de función costo $J(\\theta)$')\n",
    "    t_logR, J_logR = plot_J_logR(a_slider_logR.value,X_logR,Y_logR)\n",
    "    lineLogR, = axs_gd[1].plot(J_logR)\n",
    "    axs_gd[1].plot()\n",
    "    axs_gd[1].set_ylabel(r'$J(\\theta)$')   \n",
    "    axs_gd[1].set_xlabel(r'N° de iteraciones')   \n",
    "    axs_gd[1].grid(True)\n",
    "    \n",
    "    axs_gd[0].set_title(fr'Hipótesis vs Valores de salida reales')\n",
    "    h_gd = h_logR_value(t_logR,X_logR)\n",
    "    lineh_logR, = axs_gd[0].plot(h_gd,'rx', label='Consumo predicho',alpha = 0.9)\n",
    "    axs_gd[0].scatter(np.arange(0,30),Y_logR,marker='o',label='Consumo real',alpha = 0.9)\n",
    "    axs_gd[0].legend()\n",
    "    axs_gd[0].grid(True)\n",
    "                        \n",
    "    axs_gd[2].set_title(fr'Variación de $\\theta_j$')\n",
    "    theta0, = axs_gd[2].plot(t_logR[0,:],label=r'$\\theta_0$')\n",
    "    theta1, = axs_gd[2].plot(t_logR[1,:],label=r'$\\theta_1$')\n",
    "    theta2, = axs_gd[2].plot(t_logR[2,:],label=r'$\\theta_2$')\n",
    "    theta3, = axs_gd[2].plot(t_logR[3,:],label=r'$\\theta_3$')\n",
    "    axs_gd[2].set_ylabel(r'$\\theta$')   \n",
    "    axs_gd[2].set_xlabel(r'N° de iteraciones')   \n",
    "    axs_gd[2].grid(True)\n",
    "    axs_gd[2].legend()"
   ]
  },
  {
   "cell_type": "code",
   "execution_count": null,
   "id": "informative-miracle",
   "metadata": {},
   "outputs": [],
   "source": [
    "out_t0_logR = widgets.HTMLMath(value = fr'El valor de $\\theta_0$ después de 500 iteraciones es: {t_logR[0,-1]:.4f}')\n",
    "    \n",
    "out_t1_logR = widgets.HTMLMath(value = fr'El valor de $\\theta_1$ después de 500 iteraciones es: {t_logR[1,-1]:.4f}')\n",
    "\n",
    "out_t2_logR = widgets.HTMLMath(value = fr'El valor de $\\theta_2$ después de 500 iteraciones es: {t_logR[2,-1]:.4f}')\n",
    "    \n",
    "out_t3_logR = widgets.HTMLMath(value = fr'El valor de $\\theta_3$ después de 500 iteraciones es: {t_logR[3,-1]:.4f}')\n"
   ]
  },
  {
   "cell_type": "code",
   "execution_count": null,
   "id": "6914962d-68d5-4631-9bef-b91f3a66e23e",
   "metadata": {},
   "outputs": [],
   "source": [
    "def update_J_logR (change):\n",
    "    t_logR, J_logR = plot_J_logR(a_slider_logR.value,X_logR,Y_logR)\n",
    "    lineLogR.set_ydata(J_logR)\n",
    "    h_logR = h_logR_value(t_logR,X_logR)\n",
    "    lineh_logR.set_ydata(h_logR)\n",
    "    theta0.set_ydata(t_logR[0,:])\n",
    "    theta1.set_ydata(t_logR[1,:])\n",
    "    theta2.set_ydata(t_logR[2,:])\n",
    "    theta3.set_ydata(t_logR[3,:])\n",
    "    out_t0_logR.value = fr'El valor de $\\theta_0$ después de 200 iteraciones es: {t_logR[0,-1]:.4f}'\n",
    "    out_t1_logR.value = fr'El valor de $\\theta_1$ después de 200 iteraciones es: {t_logR[1,-1]:.4f}'\n",
    "    out_t2_logR.value = fr'El valor de $\\theta_2$ después de 200 iteraciones es: {t_logR[2,-1]:.4f}'\n",
    "    out_t3_logR.value = fr'El valor de $\\theta_3$ después de 200 iteraciones es: {t_logR[3,-1]:.4f}'\n",
    "    \n",
    "a_slider_logR.observe(update_J_logR,'value')\n",
    "\n",
    "widgets.VBox([plots_logR,a_slider_logR, out_t0_logR, out_t1_logR, out_t2_logR, out_t3_logR],layout=layout)\n"
   ]
  },
  {
   "cell_type": "markdown",
   "id": "c43c83a7-59c4-40ef-9372-c282007d893b",
   "metadata": {},
   "source": [
    "<div class=\"alert alert-block alert-success\">\n",
    "<b>Conclusiones:</b>\n",
    "    <ol>\n",
    "    <li>Si $\\alpha$ es muy pequeño, la convergencia del gradiente \n",
    "        descendente es lenta (requiere más iteraciones).</li>\n",
    "    <li>El valor de la función de costo $J(\\theta)$ decrece en \n",
    "        cada iteración.</li>\n",
    "    <li>Mientras menor sea el valor de la función costo $J(\\theta)$, \n",
    "        la función hipótesis realizará mejores predicciones de los \n",
    "        valores de salida $y$.</li>\n",
    "</ol>\n",
    "    \n",
    "</div>"
   ]
  },
  {
   "cell_type": "markdown",
   "id": "b9dd9022-6910-41ee-b996-a19db6ad96c9",
   "metadata": {},
   "source": [
    "Es posible observar en el siguiente gráfico los resultados de la clasificación\n",
    "predichos por el modelo entrenado y los valores reales de clasificación:"
   ]
  },
  {
   "cell_type": "code",
   "execution_count": null,
   "id": "terminal-format",
   "metadata": {},
   "outputs": [],
   "source": [
    "X3d = [X_logR[j,1] for j in range(0,Y_logR.shape[0]) if  Y_logR[j] == 1]\n",
    "Y3d = [X_logR[j,2] for j in range(0,Y_logR.shape[0]) if  Y_logR[j] == 1]\n",
    "Z3d = [X_logR[j,3] for j in range(0,Y_logR.shape[0]) if  Y_logR[j] == 1]\n",
    "\n",
    "fig3d, ax3d = plt.subplots(subplot_kw={'projection': '3d'}, tight_layout = True)\n",
    "ax3d.scatter(X3d, Y3d, Z3d,label='Alto consumo real',s=40)\n",
    "    \n",
    "X3d = [X_logR[j,1] for j in range(0,Y_logR.shape[0]) if  Y_logR[j] == 0]\n",
    "Y3d = [X_logR[j,2] for j in range(0,Y_logR.shape[0]) if  Y_logR[j] == 0]\n",
    "Z3d = [X_logR[j,3] for j in range(0,Y_logR.shape[0]) if  Y_logR[j] == 0]\n",
    "\n",
    "ax3d.scatter(X3d, Y3d, Z3d,label='Bajo consumo real',s=40)\n",
    "\n",
    "t_logR, J_logR = plot_J_logR(a_slider_logR.value,X_logR,Y_logR)\n",
    "h_logR = h_logR_value(t_logR,X_logR)\n",
    "\n",
    "X3d = [X_logR[j,1] for j in range(0,h_logR.shape[0]) if  h_logR[j] == 1]\n",
    "Y3d = [X_logR[j,2] for j in range(0,h_logR.shape[0]) if  h_logR[j] == 1]\n",
    "Z3d = [X_logR[j,3] for j in range(0,h_logR.shape[0]) if  h_logR[j] == 1]\n",
    "ax3d.scatter(X3d, Y3d, Z3d,label='Alto consumo predicho',s=100,facecolors='none', edgecolors='g')\n",
    "\n",
    "X3d = [X_logR[j,1] for j in range(0,h_logR.shape[0]) if  h_logR[j] == 0]\n",
    "Y3d = [X_logR[j,2] for j in range(0,h_logR.shape[0]) if  h_logR[j] == 0]\n",
    "Z3d = [X_logR[j,3] for j in range(0,h_logR.shape[0]) if  h_logR[j] == 0]\n",
    "ax3d.scatter(X3d, Y3d, Z3d,label='Bajo consumo predicho',s=100,facecolors='none', edgecolors='r')\n",
    "\n",
    "ax3d.legend()\n",
    "ax3d.set_title(f'Clasificación predicha vs real, alpha= {a_slider_logR.value}')\n",
    "ax3d.set_xlabel('Income')\n",
    "ax3d.set_ylabel('Price')   \n",
    "ax3d.set_zlabel('Temperature') ;"
   ]
  },
  {
   "cell_type": "markdown",
   "id": "exposed-ireland",
   "metadata": {},
   "source": [
    "<h3>Gradiente descendente sin normalizar</h3>    "
   ]
  },
  {
   "cell_type": "code",
   "execution_count": null,
   "id": "99251538-0b11-4e45-ac6a-e8075bd1d024",
   "metadata": {},
   "outputs": [],
   "source": [
    "dfHelados2.head(5)"
   ]
  },
  {
   "cell_type": "code",
   "execution_count": null,
   "id": "7f83f832-ae7c-4719-be16-82575e609efa",
   "metadata": {},
   "outputs": [],
   "source": [
    "X_gdSn = dfHelados2.values\n",
    "x0_gdSn = np.ones(shape = (X_gdSn.shape[0],1))\n",
    "X_gdSn = np.hstack((x0_gdSn, X_gdSn))\n",
    "\n",
    "Y_gdSn = dfHelados.loc[:,'bigCons'].values.reshape(-1, 1)"
   ]
  },
  {
   "cell_type": "code",
   "execution_count": null,
   "id": "c94975b8-39b2-42f6-a0d0-d8343c9dc073",
   "metadata": {},
   "outputs": [],
   "source": [
    "alphaSn_slider = widgets.FloatSlider(min = 0,max = 0.09,step = 0.001,value = 0.05,description = r'$\\alpha$')"
   ]
  },
  {
   "cell_type": "code",
   "execution_count": null,
   "id": "ee06fb65-a19f-4fa1-baa3-3e697352904f",
   "metadata": {},
   "outputs": [],
   "source": [
    "plots_logR_gdSn = widgets.Output()\n",
    "\n",
    "with plots_logR_gdSn:\n",
    "    fig_gdSn, axs_gdSn = plt.subplots(3,1,figsize = (7,8),tight_layout = True)\n",
    "    fig_gdSn.suptitle(r'Gradiente descendente')\n",
    "    \n",
    "    axs_gdSn[1].set_title(fr'Variación de función costo $J(\\theta)$')\n",
    "    t_logR_gdSn, J_logR_gdSn = plot_J_logR(alphaSn_slider.value,X_gdSn,Y_gdSn)\n",
    "    lineLogR_gdSn, = axs_gdSn[1].plot(J_logR_gdSn)\n",
    "    axs_gdSn[1].plot()\n",
    "    axs_gdSn[1].set_ylabel(r'$J(\\theta)$')   \n",
    "    axs_gdSn[1].set_xlabel(r'N° de iteraciones')   \n",
    "    axs_gdSn[1].grid(True)\n",
    "    \n",
    "    axs_gdSn[0].set_title(fr'Hipótesis vs Valores de salida reales')\n",
    "    h_gdSn = h_logR_value(t_logR_gdSn,X_gdSn)\n",
    "    lineh_logR_gdSn, = axs_gdSn[0].plot(h_gdSn,'rx', label='Consumo predicho',alpha = 0.9)\n",
    "    axs_gdSn[0].scatter(np.arange(0,30),Y_gdSn,marker='o',label='Consumo real',alpha = 0.9)\n",
    "    axs_gdSn[0].legend()\n",
    "    axs_gdSn[0].grid(True)\n",
    "                        \n",
    "    axs_gdSn[2].set_title(fr'Variación de $\\theta_j$')\n",
    "    theta0Sn, = axs_gdSn[2].plot(t_logR_gdSn[0,:],label=r'$\\theta_0$')\n",
    "    theta1Sn, = axs_gdSn[2].plot(t_logR_gdSn[1,:],label=r'$\\theta_1$')\n",
    "    theta2Sn, = axs_gdSn[2].plot(t_logR_gdSn[2,:],label=r'$\\theta_2$')\n",
    "    theta3Sn, = axs_gdSn[2].plot(t_logR_gdSn[3,:],label=r'$\\theta_3$')\n",
    "    axs_gdSn[2].set_ylabel(r'$\\theta$')   \n",
    "    axs_gdSn[2].set_xlabel(r'N° de iteraciones')   \n",
    "    axs_gdSn[2].grid(True)\n",
    "    axs_gdSn[2].legend()"
   ]
  },
  {
   "cell_type": "code",
   "execution_count": null,
   "id": "ac1c39ff-6ad5-4b89-872c-84d6bcad796c",
   "metadata": {},
   "outputs": [],
   "source": [
    "out_t0_gdSn = widgets.HTMLMath(value = fr'El valor de $\\theta_0$ después de 10 iteraciones es: {t_logR_gdSn[0,-1]:.4e}')\n",
    "    \n",
    "out_t1_gdSn = widgets.HTMLMath(value = fr'El valor de $\\theta_1$ después de 10 iteraciones es: {t_logR_gdSn[1,-1]:.4e}')\n",
    "\n",
    "out_t2_gdSn = widgets.HTMLMath(value = fr'El valor de $\\theta_2$ después de 10 iteraciones es: {t_logR_gdSn[2,-1]:.4e}')\n",
    "    \n",
    "out_t3_gdSn = widgets.HTMLMath(value = fr'El valor de $\\theta_3$ después de 10 iteraciones es: {t_logR_gdSn[3,-1]:.4e}')"
   ]
  },
  {
   "cell_type": "code",
   "execution_count": null,
   "id": "7acf135d-5994-4033-886d-deda2a790541",
   "metadata": {},
   "outputs": [],
   "source": [
    "def update_gdSn (change):\n",
    "    t_logR_gdSn, J_logR_gdSn = plot_J_logR(alphaSn_slider.value,X_gdSn,Y_gdSn)\n",
    "    axs_gdSn[1].cla()\n",
    "    lineLogR_gdSn, = axs_gdSn[1].plot(J_logR_gdSn)\n",
    "    axs_gdSn[1].set_ylabel(r'$J(\\theta)$')   \n",
    "    axs_gdSn[1].set_xlabel(r'N° de iteraciones')  \n",
    "    axs_gdSn[1].grid(True)\n",
    "    \n",
    "    h_gdSn = h_logR_value(t_logR_gdSn,X_gdSn)\n",
    "    axs_gdSn[0].cla()\n",
    "    lineh_logR_gdSn, = axs_gdSn[0].plot(h_gdSn,'rx', label='Consumo predicho',alpha = 0.9)\n",
    "    axs_gdSn[0].scatter(np.arange(0,30),Y_gdSn,marker='o',label='Consumo real',alpha = 0.9)\n",
    "    axs_gdSn[0].legend()\n",
    "    axs_gdSn[0].grid(True)\n",
    "    \n",
    "    axs_gdSn[2].cla()\n",
    "    theta0Sn, = axs_gdSn[2].plot(t_logR_gdSn[0,:],label=r'$\\theta_0$')\n",
    "    theta1Sn, = axs_gdSn[2].plot(t_logR_gdSn[1,:],label=r'$\\theta_1$')\n",
    "    theta2Sn, = axs_gdSn[2].plot(t_logR_gdSn[2,:],label=r'$\\theta_2$')\n",
    "    theta3Sn, = axs_gdSn[2].plot(t_logR_gdSn[3,:],label=r'$\\theta_3$')\n",
    "    axs_gdSn[2].set_ylabel(r'$\\theta$')   \n",
    "    axs_gdSn[2].set_xlabel(r'N° de iteraciones')   \n",
    "    axs_gdSn[2].grid(True)\n",
    "    axs_gdSn[2].legend();\n",
    "\n",
    "    out_t0_gdSn.value = fr'El valor de $\\theta_0$ después de 10 iteraciones es: {t_logR_gdSn[0,-1]:.4e}'\n",
    "    out_t1_gdSn.value = fr'El valor de $\\theta_1$ después de 10 iteraciones es: {t_logR_gdSn[1,-1]:.4e}'\n",
    "    out_t2_gdSn.value = fr'El valor de $\\theta_2$ después de 10 iteraciones es: {t_logR_gdSn[2,-1]:.4e}'\n",
    "    out_t3_gdSn.value = fr'El valor de $\\theta_3$ después de 10 iteraciones es: {t_logR_gdSn[3,-1]:.4e}'\n",
    "    \n",
    "alphaSn_slider.observe(update_gdSn ,'value')\n",
    "\n",
    "widgets.VBox([plots_logR_gdSn,alphaSn_slider, out_t0_gdSn, out_t1_gdSn, out_t2_gdSn, out_t3_gdSn],layout=layout)\n"
   ]
  },
  {
   "cell_type": "markdown",
   "id": "fd4e2c40-1ad0-49cc-862c-8ba477203b78",
   "metadata": {},
   "source": [
    "<div class=\"alert alert-block alert-danger\">\n",
    "<b>Conclusiones:</b> \n",
    "    <ol>\n",
    "        <li>Si las variables de entrada (features) $x_j$ poseen rangos de valores muy diferentes, \n",
    "            es <b>necesario</b> realizar la normalización de las mismas para asegurar la \n",
    "            convergencia del gradiente descendente.</li>\n",
    "    </ol>\n",
    "</div>"
   ]
  },
  {
   "cell_type": "markdown",
   "id": "broken-morning",
   "metadata": {},
   "source": [
    "<h3>Gradiente descendente con regularización</h3>    "
   ]
  },
  {
   "cell_type": "code",
   "execution_count": null,
   "id": "83a6a229-c9fb-4ae8-b3f2-214b0540b88d",
   "metadata": {},
   "outputs": [],
   "source": [
    "df_util = dfH_norm.loc[:,['income','price','temp']] "
   ]
  },
  {
   "cell_type": "code",
   "execution_count": null,
   "id": "f3111e3d-1555-49f5-a58c-40b096ecbaf4",
   "metadata": {},
   "outputs": [],
   "source": [
    "extra1 = df_util['temp'].values * 2 + np.random.randn(df_util.shape[0]) \n",
    "df_extra1 = pd.DataFrame(extra1)\n",
    "df_extra1 = (df_extra1 - df_extra1.mean(axis = 0)) / df_extra1.std(axis = 0)  \n"
   ]
  },
  {
   "cell_type": "code",
   "execution_count": null,
   "id": "f7c2a1e4-e60b-4061-98c3-d2eccd93878d",
   "metadata": {},
   "outputs": [],
   "source": [
    "dfH_reg = pd.concat([df_util, df_extra1],axis=1)\n",
    "dfH_reg.head(5)"
   ]
  },
  {
   "cell_type": "code",
   "execution_count": null,
   "id": "dba61594-af12-4e7a-a05d-0d8ee9ad55f6",
   "metadata": {},
   "outputs": [],
   "source": [
    "dfH_reg.corr().style.background_gradient(cmap='coolwarm')"
   ]
  },
  {
   "cell_type": "code",
   "execution_count": null,
   "id": "2d9db180-c5a9-4dbb-8616-e72e8c486f27",
   "metadata": {},
   "outputs": [],
   "source": [
    "X_reg = dfH_reg.values\n",
    "x0_reg = np.ones(shape = (X_reg.shape[0],1))\n",
    "X_reg = np.hstack((x0_reg, X_reg))"
   ]
  },
  {
   "cell_type": "code",
   "execution_count": null,
   "id": "8863b2b0-3b07-4d8a-a885-022c0d59ae88",
   "metadata": {},
   "outputs": [],
   "source": [
    "Y_reg = dfHelados.loc[:,'bigCons'].values.reshape(-1, 1)\n",
    "Y_reg = Y_reg"
   ]
  },
  {
   "cell_type": "code",
   "execution_count": null,
   "id": "a4b8d8a2-04cc-4dc4-a6f3-8f85952fb499",
   "metadata": {},
   "outputs": [],
   "source": [
    "alphaReg_slider = widgets.FloatSlider(min = 0,max = 0.9,step = 0.01,value = 0.5,description = r'$\\alpha$')\n",
    "lambdaReg_slider = widgets.FloatSlider(min = 0,max = 10.00,step = 0.1,value = 0.00,description = r'$\\lambda$')"
   ]
  },
  {
   "cell_type": "code",
   "execution_count": null,
   "id": "660a73cc-54a6-496e-bfc1-e6f86efdac4e",
   "metadata": {},
   "outputs": [],
   "source": [
    "def plot_J_reg(alpha, X, Y, l):\n",
    "    m = X.shape[0]\n",
    "   \n",
    "    t = np.zeros(shape = (X.shape[1],1))\n",
    "     \n",
    "    J = np.array([])\n",
    "\n",
    "    for i in range(0,200):\n",
    "        z = X.dot(t[:,i])\n",
    "        h =  1 / (1 + np.exp(-z))\n",
    "        h = h.reshape(-1, 1)\n",
    "        \n",
    "        logH = np.log(h) \n",
    "        log1_H = np.log(1 - h +  1e-7)\n",
    "        \n",
    "        J = np.append(J, -1/m * (Y.T.dot(logH) + (1 - Y).T.dot(log1_H)) +  l/(2*m) * sum(np.square(t[1:,i])))\n",
    "        \n",
    "        t_temp = np.array([]) \n",
    "        \n",
    "        for j in range(0,t.shape[0]):\n",
    "            if j == 0:\n",
    "                t_temp = np.append(t_temp, t[j,i] - alpha/m * (X[:,j].reshape(1, -1).dot(h - Y)))\n",
    "            else:\n",
    "                t_temp = np.append(t_temp, t[j,i] - alpha/m * (X[:,j].reshape(1, -1).dot(h - Y) + l * t[j,i]))\n",
    "        t = np.hstack((t,t_temp.reshape(-1, 1)))\n",
    "    return t, J\n",
    "    "
   ]
  },
  {
   "cell_type": "code",
   "execution_count": null,
   "id": "4b73626b-1425-4ed9-969e-a3325902d3be",
   "metadata": {},
   "outputs": [],
   "source": [
    "plots_gdReg = widgets.Output()\n",
    "\n",
    "with plots_gdReg:\n",
    "    fig_gdReg, axs_gdReg = plt.subplots(2,1,figsize = (7,6),tight_layout = True)\n",
    "    fig_gdReg.suptitle(r'Gradiente descendente con regularización')\n",
    "    \n",
    "    axs_gdReg[1].set_title(r'Variación de función costo $J(\\theta)$')\n",
    "    t_gdReg, J_gdReg = plot_J_reg(alphaReg_slider.value,X_reg,Y_reg,lambdaReg_slider.value)\n",
    "    linejReg, = axs_gdReg[1].plot(J_gdReg)\n",
    "    axs_gdReg[1].set_ylabel(r'$J(\\theta)$')   \n",
    "    axs_gdReg[1].set_xlabel(r'N° de iteraciones')   \n",
    "    axs_gdReg[1].grid(True)\n",
    "    \n",
    "    axs_gdReg[0].set_title(r'Hipótesis vs Valores de salida reales')\n",
    "    h_gdReg = h_logR_value(t_gdReg, X_reg)\n",
    "    linehReg, = axs_gdReg[0].plot(h_gdReg,'rx', label='Consumo predicho',alpha = 0.9)\n",
    "    axs_gdReg[0].plot(Y_reg,'o',label='Consumo real',alpha = 0.9)\n",
    "    axs_gdReg[0].legend()\n",
    "    axs_gdReg[0].grid(True)\n",
    "    "
   ]
  },
  {
   "cell_type": "code",
   "execution_count": null,
   "id": "9f04be4d-2709-4b84-b113-6d55337ff3be",
   "metadata": {},
   "outputs": [],
   "source": [
    "out_J = widgets.HTMLMath(value = fr'El valor de $J(\\theta)$  después de 200 iteraciones es: {J_gdReg[-1]:.5f}')"
   ]
  },
  {
   "cell_type": "code",
   "execution_count": null,
   "id": "4ad22dd8-ec94-4ea0-b749-44447c408eea",
   "metadata": {},
   "outputs": [],
   "source": [
    "def update_gdReg (change):\n",
    "    t_gdReg, J_gdReg = plot_J_reg(alphaReg_slider.value,X_reg,Y_reg,lambdaReg_slider.value)\n",
    "    linejReg.set_ydata(J_gdReg)\n",
    "    h_gdReg = h_logR_value(t_gdReg,X_reg)\n",
    "    linehReg.set_ydata(h_gdReg)\n",
    "    \n",
    "    out_J.value = fr'El valor de $J(\\theta)$ después de 200 iteraciones es: {J_gdReg[-1]:.5f}'\n",
    "    \n",
    "alphaReg_slider.observe(update_gdReg ,'value')\n",
    "lambdaReg_slider.observe(update_gdReg ,'value')\n",
    "\n",
    "widgets.VBox([plots_gdReg,alphaReg_slider,\\\n",
    "              lambdaReg_slider, \\\n",
    "              out_J], layout=layout)\n"
   ]
  },
  {
   "cell_type": "markdown",
   "id": "a6aadfb8-1bec-4232-a9f8-0f41cae4878f",
   "metadata": {},
   "source": [
    "<div  class=\"alert alert-block alert-warning\">\n",
    "<b>Conclusiones:</b> \n",
    "    <ol>\n",
    "        <li>Cuando existe una fuerte correlación entre 2 variables de entrada, es necesario aplicar regularización \n",
    "            para simplificar el modelo.</li>\n",
    "        <li>Una variable correlacionada a otra no tendrá un gran impacto en mejorar el modelo, solo le \n",
    "            agregará complejidad.</li>\n",
    "        <li>Aplicar regularización evita problemas de overfitting.</li>\n",
    "        <li>El parámetro $\\lambda$ es un número real positivo que controla el impacto de la regularización.</li>\n",
    "        <li>Al aumentar el grado de regularización, aumenta el valor de la función de costo $J(\\theta)$.</li>\n",
    "    </ol>\n",
    "</div>"
   ]
  },
  {
   "cell_type": "markdown",
   "id": "loaded-admission",
   "metadata": {},
   "source": [
    "<h2>IMPLEMENTACIÓN CON LIBRERÍAS ESPECIALIZADAS</h2>\n",
    "<ol>\n",
    "    <li>Se utiliza la librería <strong>scikit-learn</strong>\n",
    "    </li>\n",
    "</ol>"
   ]
  },
  {
   "cell_type": "code",
   "execution_count": null,
   "id": "intellectual-chair",
   "metadata": {},
   "outputs": [],
   "source": [
    "from sklearn.linear_model import LogisticRegression"
   ]
  },
  {
   "cell_type": "markdown",
   "id": "ordinary-cassette",
   "metadata": {},
   "source": [
    "<ol start=\"2\">\n",
    "    <li>Los arreglos de entrada y salida deben ser <strong>NumPy arrays</strong>.\n",
    "        <ul>\n",
    "            <li>El arreglo de <strong>X</strong> debe tener <strong>2 dimensiones</strong>: cada columna debe corresponder con una variable de entrada y cada fila con una observación particular.</li>\n",
    "            <li>El arreglo de <strong>Y</strong> debe tener <strong>1 dimensión</strong>, siendo cada elemento la salida de cada una de las observaciones</li>\n",
    "        </ul>\n",
    "    </li>\n",
    "</ol>"
   ]
  },
  {
   "cell_type": "code",
   "execution_count": null,
   "id": "entitled-treaty",
   "metadata": {},
   "outputs": [],
   "source": [
    "X_test"
   ]
  },
  {
   "cell_type": "code",
   "execution_count": null,
   "id": "institutional-extraction",
   "metadata": {},
   "outputs": [],
   "source": [
    "Y_test"
   ]
  },
  {
   "cell_type": "markdown",
   "id": "vocal-marathon",
   "metadata": {},
   "source": [
    "<ol start=\"3\">\n",
    "    <li>Se crea una instancia de la clase <strong>LogisticRegression</strong>, la cual tiene muchos parámetros opcionales:\n",
    "        <ul>\n",
    "          <li><strong>penalty</strong> permite seleccionar si se realiza la regularización y que tipo utilizar: 'l2','l1', 'elasticnet', 'none'.</li>\n",
    "          <li><strong>C</strong> es un numero que define la potencia de la regularización, valores pequeños indican mayor regularización.</li>\n",
    "          <li><strong>solver</strong> define que método utilizar para entrnar el modelo: 'liblinear','newton-cg', 'lbfgs', 'sag','saga'.</li>\n",
    "          <li><strong>max_iter</strong> define el número máximo de iteraciones realizadas al ajustar el modelo.</li>\n",
    "        </ul>\n",
    "        Por defecto se utiliza el método 'liblinear', el cual no funciona sin regularización, por lo que se le asigna un valor muy grande a c para disminuir la regularización.\n",
    "    </li>\n",
    "</ol>"
   ]
  },
  {
   "cell_type": "code",
   "execution_count": null,
   "id": "mysterious-persian",
   "metadata": {},
   "outputs": [],
   "source": [
    "model = LogisticRegression(C=1e10,max_iter=500)"
   ]
  },
  {
   "cell_type": "markdown",
   "id": "starting-joining",
   "metadata": {},
   "source": [
    "<ol start=\"4\">\n",
    "    <li>Se entrena el modelo, lo cual determina los valores de los coeficientes que corresponden al mejor valor de la función costo\n",
    "    </li>\n",
    "</ol>"
   ]
  },
  {
   "cell_type": "code",
   "execution_count": null,
   "id": "duplicate-creativity",
   "metadata": {},
   "outputs": [],
   "source": [
    "model.fit(X_test, Y_test)"
   ]
  },
  {
   "cell_type": "markdown",
   "id": "persistent-irrigation",
   "metadata": {},
   "source": [
    "<ol start=\"5\">\n",
    "    <li>Se pueden obtener los atributos del modelo:\n",
    "        <ul>\n",
    "            <li> Los distintos valores posibles de salida.\n",
    "            </li>\n",
    "        </ul>\n",
    "    </li>\n",
    "</ol>"
   ]
  },
  {
   "cell_type": "code",
   "execution_count": null,
   "id": "underlying-chance",
   "metadata": {},
   "outputs": [],
   "source": [
    "model.classes_"
   ]
  },
  {
   "cell_type": "markdown",
   "id": "accurate-pilot",
   "metadata": {},
   "source": [
    "<ol style=\"list-style-type:none;\">\n",
    "    <li>\n",
    "        <ul>\n",
    "            <li> Los valores de los coeficientes del modelo entrenado.\n",
    "            </li>\n",
    "        </ul>\n",
    "    </li>\n",
    "</ol>"
   ]
  },
  {
   "cell_type": "code",
   "execution_count": null,
   "id": "retired-causing",
   "metadata": {},
   "outputs": [],
   "source": [
    "print(model.intercept_,model.coef_)"
   ]
  },
  {
   "cell_type": "markdown",
   "id": "fabulous-biodiversity",
   "metadata": {},
   "source": [
    "<ol start=\"6\">\n",
    "    <li>Se calculan los valores predichos de salida haciendo uso del modelo entrenado.\n",
    "    </li>\n",
    "</ol>"
   ]
  },
  {
   "cell_type": "code",
   "execution_count": null,
   "id": "global-yeast",
   "metadata": {},
   "outputs": [],
   "source": [
    "predictions = model.predict(X_test)\n",
    "predictions"
   ]
  },
  {
   "cell_type": "code",
   "execution_count": null,
   "id": "brave-strand",
   "metadata": {},
   "outputs": [],
   "source": [
    "skl = widgets.Output()\n",
    "\n",
    "with skl:\n",
    "    fig_p, ax_p = plt.subplots(figsize = (6,4))\n",
    "    fig_p.suptitle(r'Hipótesis vs Valores de salida reales')\n",
    "    ax_p.plot(np.arange(0,len(Y_logR)), predictions, 'b+',markersize = 8, label = 'Predicción con sklearn', alpha = 0.8)\n",
    "    ax_p.scatter(np.arange(0,len(Y_logR)), Y_logR, marker = 'o', s = 25, label='Salida real', alpha = 0.9, facecolors = 'g', edgecolors = 'g')\n",
    "    lineh_skl, = ax_p.plot(np.arange(0,len(Y_logR)), h_logR,'rx', markersize = 8, label = 'Predicción', alpha = 0.8)\n",
    "    ax_p.grid(True)\n",
    "    ax_p.legend();\n",
    "    \n",
    "def update_skl (change):\n",
    "    t_logR, J_logR = plot_J_logR(a_slider_logR.value,X_logR,Y_logR)\n",
    "    h_logR = h_logR_value(t_logR,X_logR)\n",
    "    lineh_skl.set_ydata(h_logR)\n",
    "\n",
    "a_slider_logR.observe(update_skl ,'value')\n",
    "\n",
    "widgets.VBox([skl,a_slider_logR],layout = layout)"
   ]
  },
  {
   "cell_type": "markdown",
   "id": "hidden-jesus",
   "metadata": {},
   "source": [
    "<ol start=\"7\">\n",
    "    <li>Se calcula un puntaje para el modelo, el mismo equivale al porcentaje de predicciones correctas realizadas por el modelo.\n",
    "    </li>\n",
    "</ol>"
   ]
  },
  {
   "cell_type": "code",
   "execution_count": null,
   "id": "functioning-merit",
   "metadata": {},
   "outputs": [],
   "source": [
    "model.score(X_test, Y_test)"
   ]
  },
  {
   "cell_type": "code",
   "execution_count": null,
   "id": "0bbc9782-b8b3-49ba-96ab-1e53e47d2839",
   "metadata": {},
   "outputs": [],
   "source": []
  }
 ],
 "metadata": {
  "kernelspec": {
   "display_name": "Python 3 (ipykernel)",
   "language": "python",
   "name": "python3"
  },
  "language_info": {
   "codemirror_mode": {
    "name": "ipython",
    "version": 3
   },
   "file_extension": ".py",
   "mimetype": "text/x-python",
   "name": "python",
   "nbconvert_exporter": "python",
   "pygments_lexer": "ipython3",
   "version": "3.9.7"
  },
  "toc-autonumbering": true
 },
 "nbformat": 4,
 "nbformat_minor": 5
}
