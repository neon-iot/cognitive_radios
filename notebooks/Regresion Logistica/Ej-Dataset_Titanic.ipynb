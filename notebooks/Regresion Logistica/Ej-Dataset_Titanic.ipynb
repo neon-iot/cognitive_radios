{
 "cells": [
  {
   "cell_type": "markdown",
   "id": "2e6c42d6-da76-4010-a265-f68e2dcc502d",
   "metadata": {},
   "source": [
    "Este es un ejemplo extraído del tutorial \"Logistic Regression in \n",
    "Python - A Step-by-Step Guide\" del blog \"Pragmatic Machine \n",
    "Learning in Python\" por Nick McCullum. \n",
    "\n",
    "En este ejemplo se utiliza una versión reducida del dataset Titanic\n",
    "obtenida del blog antes mencionado. El dataset original se encuentra \n",
    "disponible en Kaggle y es muy utilizado como un dataset introductorio \n",
    "para problemas de regresión logistica. \n",
    "\n",
    "El dataset contiene características de los \n",
    "pasajeros que se encontraban a bordo del Titanic. Las mismas serán \n",
    "utilizadas para predecir si cada pasajero sobrevivió o no al hundimiento\n",
    "del Titanic.\n",
    "\n",
    "<hr>  "
   ]
  },
  {
   "cell_type": "code",
   "execution_count": null,
   "id": "written-friday",
   "metadata": {},
   "outputs": [],
   "source": [
    "import pandas as pd\n",
    "import numpy as np\n",
    "import matplotlib.pyplot as plt\n",
    "import seaborn as sns\n",
    "import ipywidgets as widgets\n",
    "%matplotlib widget\n",
    "\n",
    "layout = widgets.Layout(align_items = 'center')"
   ]
  },
  {
   "cell_type": "markdown",
   "id": "348874d9-aa99-4cde-afc3-083ed9ee61f8",
   "metadata": {},
   "source": [
    "<ol>\n",
    "    <li>Se utiliza la libreria <b>pandas</b> para importar el archivo .csv</li>\n",
    "</ol>"
   ]
  },
  {
   "cell_type": "code",
   "execution_count": null,
   "id": "yellow-explorer",
   "metadata": {},
   "outputs": [],
   "source": [
    "titanic_data = pd.read_csv('titanic_train.csv')"
   ]
  },
  {
   "cell_type": "markdown",
   "id": "ae295abd-5048-4b53-acb8-353072fc64d8",
   "metadata": {},
   "source": [
    "<ol start=\"2\">\n",
    "    <li>Con el método <b>data()</b> se obtienen las primeras 5 filas del \n",
    "        dataframe\n",
    "    </li>\n",
    "</ol>"
   ]
  },
  {
   "cell_type": "code",
   "execution_count": null,
   "id": "planned-adrian",
   "metadata": {},
   "outputs": [],
   "source": [
    "titanic_data.head()"
   ]
  },
  {
   "cell_type": "markdown",
   "id": "3a19f129-5dc3-4099-96a1-6c2ea54c0f2e",
   "metadata": {},
   "source": [
    "<ol start=\"2\">\n",
    "    <li>Con el método <b>columns</b> se obtienen los nombres de todas \n",
    "        las columnas del dataframe\n",
    "    </li>\n",
    "</ol>"
   ]
  },
  {
   "cell_type": "code",
   "execution_count": null,
   "id": "278f388b-9fb4-459b-94cc-0dd5fc390e4c",
   "metadata": {},
   "outputs": [],
   "source": [
    "titanic_data.columns"
   ]
  },
  {
   "cell_type": "markdown",
   "id": "2acd8e2f-c8cf-49e8-a617-af527a593157",
   "metadata": {},
   "source": [
    "<ul>\n",
    "    <li><b>PassengerId</b> número identificador de cada pasajero.</li>\n",
    "    <li><b>Survived</b> número binario que indica si el pasajero sobrevivió o no al hundimiento del Titanic. El valor 1 corresponde a que la persona sobrevivió, mientras que el valor 0 corresponde a que no lo hizo.</li>\n",
    "    <li><b>Pclass</b> número que corresponde a la clase del pasajero, puede tener un valor de 1, 2 ó 3.</li>\n",
    "    <li><b>Name</b> nombre del pasajero.</li>\n",
    "    <li><b>Sex</b> sexo del pasajero (male, female).</li>\n",
    "    <li><b>Age</b> edad (en años) del pasajero.</li>\n",
    "    <li><b>SibSp</b> número de hermanos o esposos a bordo del barco.</li>\n",
    "    <li><b>Parch</b> número de padres o hijos a bordo del barco.</li>\n",
    "    <li><b>Ticket</b> número de ticket del pasajero.</li>\n",
    "    <li><b>Fare</b> precio que el pasajero pagó por su ticket.</li>\n",
    "    <li><b>Cabin</b> número de la cabina del pasajero.</li>\n",
    "    <li><b>Embarked</b> puerto en el que el pasajero embarcó (C = Cherbourg, Q = Queenstown, S = Southampton)</li>\n",
    "</ul>\n"
   ]
  },
  {
   "cell_type": "markdown",
   "id": "b9d74cbf-b5ff-4b90-8d44-a8ee929a2570",
   "metadata": {},
   "source": [
    "<ol start=\"3\">\n",
    "    <li> Utilizando la librería <b>seaborn</b> es posible observar los datos \n",
    "        faltantes en el dataset, los cuales se indican con líneas blancas.\n",
    "    </li>\n",
    "</ol>"
   ]
  },
  {
   "cell_type": "code",
   "execution_count": null,
   "id": "39068994-7a37-4576-9198-32c0f7942198",
   "metadata": {},
   "outputs": [],
   "source": [
    "plt.subplots(1,1,figsize = (4,5),tight_layout = True)\n",
    "sns.heatmap(titanic_data.isnull(), cbar=False);"
   ]
  },
  {
   "cell_type": "markdown",
   "id": "f0f7fed8-2748-47d6-bd3b-217f096d0390",
   "metadata": {},
   "source": [
    "Se observa que la variable Cabin posee en su mayoría datos faltantes, por lo que\n",
    "esta variable no será utilizada en el modelo. Por otro lado, la variable Age \n",
    "también posee datos faltantes, pero en menor cantidad. Por lo que se \n",
    "reemplazan las edades faltantes por la edad promedio de los pasajeros de la misma \n",
    "clase."
   ]
  },
  {
   "cell_type": "code",
   "execution_count": null,
   "id": "specified-zoning",
   "metadata": {},
   "outputs": [],
   "source": [
    "def impute_missing_age(columns):\n",
    "    age = columns[0]\n",
    "    passenger_class = columns[1]\n",
    "    \n",
    "    if pd.isnull(age):\n",
    "        if(passenger_class == 1):\n",
    "            return titanic_data[titanic_data['Pclass'] == 1]['Age'].mean()\n",
    "        elif(passenger_class == 2):\n",
    "            return titanic_data[titanic_data['Pclass'] == 2]['Age'].mean()\n",
    "        elif(passenger_class == 3):\n",
    "            return titanic_data[titanic_data['Pclass'] == 3]['Age'].mean()\n",
    "        \n",
    "    else:\n",
    "        return age"
   ]
  },
  {
   "cell_type": "code",
   "execution_count": null,
   "id": "light-manchester",
   "metadata": {},
   "outputs": [],
   "source": [
    "titanic_data['Age'] = titanic_data[['Age', 'Pclass']].apply(impute_missing_age, axis = 1)"
   ]
  },
  {
   "cell_type": "code",
   "execution_count": null,
   "id": "a14ac2e9-a4c2-45a2-bd37-c7c560ee9a55",
   "metadata": {},
   "outputs": [],
   "source": [
    "titanic_data.drop('Cabin', axis=1, inplace = True)\n",
    "titanic_data.head()"
   ]
  },
  {
   "cell_type": "markdown",
   "id": "4664923a-ceda-4964-bf96-4e5e9bed1665",
   "metadata": {},
   "source": [
    "<ol start=\"4\">\n",
    "    <li> Con el método <b>get_dummies()</b> es posible obtener variables de tipo dummy, \n",
    "        es decir, variables que asignan un valor a cada categoría dentro de una \n",
    "        variable no numérica. Por ejemplo: al aplicar este método sobre la columna \n",
    "        Sex, se crearán otras 2 columnas denominadas male y female. Cada una de estas \n",
    "        columnas sólo contendrá números binarios. Un valor de 0 en la columna female \n",
    "        indicaría que el pasajero es hombre, e implicaría un valor de 1 en la \n",
    "        columna male.\n",
    "    </li>\n",
    "</ol>"
   ]
  },
  {
   "cell_type": "code",
   "execution_count": null,
   "id": "ranking-christopher",
   "metadata": {},
   "outputs": [],
   "source": [
    "sex_data = pd.get_dummies(titanic_data['Sex'], drop_first = True)\n",
    "embarked_data = pd.get_dummies(titanic_data['Embarked'], drop_first = True)\n",
    "\n",
    "titanic_data = pd.concat([titanic_data, sex_data, embarked_data], axis = 1)\n"
   ]
  },
  {
   "cell_type": "markdown",
   "id": "85270792-5ec1-4098-b2af-e9947aafd6c0",
   "metadata": {},
   "source": [
    "<ol start=\"5\">\n",
    "    <li> Una vez agregadas las columnas de variables dummies, es posible eliminar \n",
    "        las columnas de las variables categóricas correspondientes. A su vez, \n",
    "        también se pueden eliminar otras variables que no son influyentes en \n",
    "        la predicción de si el pasajero sobrevivió o no (Nombre, Número de \n",
    "        pasajero y Número de ticket).\n",
    "    </li>\n",
    "</ol>"
   ]
  },
  {
   "cell_type": "code",
   "execution_count": null,
   "id": "0d281d1d-3b30-48e6-bae5-ec8e491c3585",
   "metadata": {},
   "outputs": [],
   "source": [
    "titanic_data.drop(['Name', 'PassengerId', 'Ticket', 'Sex', 'Embarked'], axis = 1, inplace = True)"
   ]
  },
  {
   "cell_type": "code",
   "execution_count": null,
   "id": "rural-subscriber",
   "metadata": {},
   "outputs": [],
   "source": [
    "titanic_data.head()"
   ]
  },
  {
   "cell_type": "markdown",
   "id": "44fd01da-90d6-4a97-8cf8-e3bef38358ea",
   "metadata": {},
   "source": [
    "<ol start=\"6\">\n",
    "    <li> Se divide el dataset en los datos de entrada (x) y los valores de salida (y).\n",
    "    </li>\n",
    "</ol>"
   ]
  },
  {
   "cell_type": "code",
   "execution_count": null,
   "id": "sexual-latex",
   "metadata": {},
   "outputs": [],
   "source": [
    "y_data = titanic_data['Survived']\n",
    "y_data"
   ]
  },
  {
   "cell_type": "code",
   "execution_count": null,
   "id": "polish-hughes",
   "metadata": {},
   "outputs": [],
   "source": [
    "x_data = titanic_data.drop('Survived', axis = 1)\n",
    "x_data"
   ]
  },
  {
   "cell_type": "markdown",
   "id": "0912cb30-0de3-4160-8cbb-364d8b99b372",
   "metadata": {},
   "source": [
    "<ol start=\"6\">\n",
    "    <li> Se utiliza la librería <strong>scikit-learn</strong>. Específicamente \n",
    "        la función <strong>train_test_split</strong> para dividir de manera \n",
    "        aleatoria un set de datos. Así se obtienen un set de datos de entrenamiento \n",
    "        y otro de prueba.\n",
    "    </li>\n",
    "</ol>\n"
   ]
  },
  {
   "cell_type": "code",
   "execution_count": null,
   "id": "capital-bronze",
   "metadata": {},
   "outputs": [],
   "source": [
    "from sklearn.model_selection import train_test_split\n",
    "x_training_data, x_test_data, y_training_data, y_test_data = train_test_split(x_data, y_data, test_size = 0.3)"
   ]
  },
  {
   "cell_type": "markdown",
   "id": "8f328df2-d844-44ff-b48d-9b1911cc0dde",
   "metadata": {},
   "source": [
    "<ol start=\"7\">\n",
    "    <li> Se utiliza la clase <strong>LogisticRegression</strong>, de \n",
    "        la librería <strong>scikit-learn</strong>, para crear el modelo.\n",
    "        Y luego se utilizan los métodos <b>fit</b> y <b>predict</b> para \n",
    "        entrenar el modelo con los datos de entrenamiento, y para predecir\n",
    "        las salidas correspondientes a los datos de prueba.\n",
    "    </li>\n",
    "</ol>\n"
   ]
  },
  {
   "cell_type": "code",
   "execution_count": null,
   "id": "sporting-afternoon",
   "metadata": {},
   "outputs": [],
   "source": [
    "from sklearn.linear_model import LogisticRegression\n",
    "model = LogisticRegression(max_iter= 500, C = 1e6)\n",
    "model.fit(x_training_data, y_training_data)\n",
    "predictions = model.predict(x_test_data)"
   ]
  },
  {
   "cell_type": "markdown",
   "id": "e1d3106d-faae-487e-90ab-3b3c7b8e4a66",
   "metadata": {},
   "source": [
    "<ol start=\"8\">\n",
    "    <li>La librería <strong>scikit-learn</strong> posee distintos \n",
    "        módulos que permiten analizar el desempeño del modelo, como\n",
    "        <b>classification_report</b> y <b>confusion_matrix</b>. A su\n",
    "        vez, la clase LogicRegression posee un método que devuelve\n",
    "        el valor medio de la exactitud dado un set de datos de prueba\n",
    "        con sus salidas reales.\n",
    "    </li>\n",
    "</ol>\n"
   ]
  },
  {
   "cell_type": "code",
   "execution_count": null,
   "id": "53901017-5b50-46f2-8e34-a36913cde94a",
   "metadata": {},
   "outputs": [],
   "source": [
    "from sklearn.metrics import classification_report\n",
    "classification_report(y_test_data, predictions)"
   ]
  },
  {
   "cell_type": "code",
   "execution_count": null,
   "id": "d38a6282-add5-4bfc-bd02-93592135f4c0",
   "metadata": {},
   "outputs": [],
   "source": [
    "from sklearn.metrics import confusion_matrix, ConfusionMatrixDisplay\n",
    "\n",
    "cm = confusion_matrix(y_test_data, predictions)\n",
    "disp = ConfusionMatrixDisplay(confusion_matrix = cm)\n",
    "\n",
    "fig, ax = plt.subplots(figsize = (4,5),tight_layout = True)\n",
    "disp.plot(ax = ax)\n",
    "disp.im_.colorbar.remove()"
   ]
  },
  {
   "cell_type": "code",
   "execution_count": null,
   "id": "overhead-commander",
   "metadata": {},
   "outputs": [],
   "source": [
    "model.score(x_test_data,y_test_data)"
   ]
  },
  {
   "cell_type": "code",
   "execution_count": null,
   "id": "antique-fundamentals",
   "metadata": {},
   "outputs": [],
   "source": []
  },
  {
   "cell_type": "code",
   "execution_count": null,
   "id": "moving-fundamentals",
   "metadata": {},
   "outputs": [],
   "source": []
  },
  {
   "cell_type": "code",
   "execution_count": null,
   "id": "celtic-supplement",
   "metadata": {},
   "outputs": [],
   "source": []
  }
 ],
 "metadata": {
  "kernelspec": {
   "display_name": "Python 3 (ipykernel)",
   "language": "python",
   "name": "python3"
  },
  "language_info": {
   "codemirror_mode": {
    "name": "ipython",
    "version": 3
   },
   "file_extension": ".py",
   "mimetype": "text/x-python",
   "name": "python",
   "nbconvert_exporter": "python",
   "pygments_lexer": "ipython3",
   "version": "3.9.7"
  }
 },
 "nbformat": 4,
 "nbformat_minor": 5
}
