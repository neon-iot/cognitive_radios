{
 "cells": [
  {
   "cell_type": "code",
   "execution_count": null,
   "id": "arranged-watts",
   "metadata": {},
   "outputs": [],
   "source": [
    "import numpy as np\n",
    "import matplotlib.pyplot as plt\n",
    "import pandas as pd\n",
    "import ipywidgets as widgets\n",
    "%matplotlib widget\n",
    "layout = widgets.Layout(align_items = 'center')"
   ]
  },
  {
   "cell_type": "markdown",
   "id": "pending-segment",
   "metadata": {},
   "source": [
    "<h1>IMPLEMENTACIÓN CON LIBRERÍAS ESPECIALIZADAS</h1>"
   ]
  },
  {
   "cell_type": "markdown",
   "id": "spanish-anxiety",
   "metadata": {},
   "source": [
    "<h2>Ejemplo 1: DATOS SEPARABLES LINEALMENTE</h2>\n",
    "<ol>\n",
    "    <li>Se utiliza la librería <strong>scikit-learn</strong>:\n",
    "        <ol>\n",
    "            <li>El paquete <strong>svm</strong> para implementar SVM.</li>\n",
    "            <li>El paquete <strong>datasets</strong> incluye distintos \n",
    "                funciones para cargar datasets existentes o generar nuevos.</li>\n",
    "        </ol>\n",
    "    </li>\n",
    "</ol>"
   ]
  },
  {
   "cell_type": "code",
   "execution_count": null,
   "id": "difficult-occurrence",
   "metadata": {},
   "outputs": [],
   "source": [
    "from sklearn import svm\n",
    "from sklearn import datasets"
   ]
  },
  {
   "cell_type": "markdown",
   "id": "creative-instrumentation",
   "metadata": {},
   "source": [
    "<ol start=\"2\">\n",
    "    <li>Se hace uso de la función <strong>make_blobs</strong> \n",
    "        para generar los datos correspondientes \n",
    "        a las distintas clases que se usan para \n",
    "        el entrenamiento del modelo.\n",
    "        <ul>\n",
    "            <li><b>n_samples:</b> Número total de puntos dividido entre las \n",
    "                clases.</li>\n",
    "            <li><b>n_features:</b> Número de features o variables para cada \n",
    "                muestra</li>\n",
    "            <li><b>centers:</b> Número de puntos centrales alrededor de los \n",
    "                cuales se ubican las distintas muestras (número de clases).</li>\n",
    "            <li><b>cluster_std:</b> Desviación estandar de la distribución de \n",
    "                los datos alrededor de los puntos centrales. Por defecto es 1.</li>\n",
    "        </ul>\n",
    "    </li>\n",
    "</ol>"
   ]
  },
  {
   "cell_type": "code",
   "execution_count": null,
   "id": "alpha-circulation",
   "metadata": {},
   "outputs": [],
   "source": [
    "X_1, y_1 = datasets.make_blobs(n_samples = 100, centers = 2, n_features = 2)"
   ]
  },
  {
   "cell_type": "code",
   "execution_count": null,
   "id": "planned-plane",
   "metadata": {},
   "outputs": [],
   "source": [
    "data_1 = pd.DataFrame(dict(x1 = X_1[:,0], x2 = X_1[:,1], label = y_1))\n",
    "colors = {0:'red', 1:'blue'}\n",
    "\n",
    "fig_1_1, ax_1_1 = plt.subplots(figsize = (6,4),tight_layout = True)\n",
    "fig_1_1.suptitle('Datos de entrenamiento')\n",
    "\n",
    "grouped_1 = data_1.groupby('label')\n",
    "\n",
    "for key, group in grouped_1:\n",
    "    ax_1_1.scatter(group.x1, group.x2, label = f'Clase {key}', color=colors[key])\n",
    "\n",
    "ax_1_1.set_xlabel('x1')\n",
    "ax_1_1.set_ylabel('x2')  \n",
    "ax_1_1.grid(True)\n",
    "ax_1_1.legend();\n"
   ]
  },
  {
   "cell_type": "markdown",
   "id": "empty-panel",
   "metadata": {},
   "source": [
    "<ol start=\"3\">\n",
    "    <li>Se crea una instancia de la clase <strong>SVC</strong>.\n",
    "        <ul>\n",
    "          <li><strong>kernel:</strong> Especifica el tipo de kernel a utilizar \n",
    "              en el algoritmo: 'linear', 'poly, 'bf', 'sigmoid', 'precomputed'.</li>\n",
    "          <li><strong>degree:</strong> Especifica el grado de la función \n",
    "              kernel polinómica.</li>\n",
    "            <li><strong>C:</strong> Parámetro de regularización, su valor es\n",
    "                inversamente proporcional al nivel de regularización aplicado.\n",
    "                Su valor debe ser siempre positivo, por defecto $C = 1$.</li>\n",
    "        </ul>\n",
    "    </li>\n",
    "</ol>"
   ]
  },
  {
   "cell_type": "code",
   "execution_count": null,
   "id": "induced-fireplace",
   "metadata": {},
   "outputs": [],
   "source": [
    "svc_1 = svm.SVC(kernel = 'linear')"
   ]
  },
  {
   "cell_type": "markdown",
   "id": "permanent-apple",
   "metadata": {},
   "source": [
    "<ol start=\"4\">\n",
    "    <li>Se entrena el modelo.\n",
    "    </li>\n",
    "</ol>"
   ]
  },
  {
   "cell_type": "code",
   "execution_count": null,
   "id": "painted-tobago",
   "metadata": {},
   "outputs": [],
   "source": [
    "svc_1.fit(X_1, y_1)"
   ]
  },
  {
   "cell_type": "markdown",
   "id": "respected-potter",
   "metadata": {},
   "source": [
    "<ol start=\"5\">\n",
    "    <li>Se obtiene la recta umbral de decisión haciendo uso de los atributos \n",
    "        <strong>coef_</strong> y <strong>intercept_</strong>.\n",
    "    </li>\n",
    "</ol>"
   ]
  },
  {
   "cell_type": "code",
   "execution_count": null,
   "id": "brilliant-fellow",
   "metadata": {},
   "outputs": [],
   "source": [
    "w =svc_1.coef_[0]\n",
    "a = -w[0] / w[1]\n",
    "xx = np.linspace(np.min(X_1[:,0]), np.max(X_1[:,0]))\n",
    "\n",
    "yy_umbral = a * xx - (svc_1.intercept_[0]) / w[1]\n"
   ]
  },
  {
   "cell_type": "markdown",
   "id": "noble-blues",
   "metadata": {},
   "source": [
    "<ol start=\"6\">\n",
    "    <li>Se obtienen las rectas paralelas al umbral que pasan por los vectores \n",
    "        soporte.\n",
    "    </li>\n",
    "</ol>"
   ]
  },
  {
   "cell_type": "code",
   "execution_count": null,
   "id": "adult-things",
   "metadata": {},
   "outputs": [],
   "source": [
    "margin = 1 / np.sqrt(np.sum(svc_1.coef_ ** 2))\n",
    "\n",
    "yy_down = yy_umbral - np.sqrt(1 + a ** 2) * margin\n",
    "yy_up = yy_umbral + np.sqrt(1 + a ** 2) * margin"
   ]
  },
  {
   "cell_type": "markdown",
   "id": "perceived-orbit",
   "metadata": {},
   "source": [
    "<ol start=\"7\">\n",
    "    <li>Se obtienen los vectores soporte haciendo uso del atributo \n",
    "        <strong>support_vectors_</strong>.\n",
    "    </li>\n",
    "</ol>"
   ]
  },
  {
   "cell_type": "code",
   "execution_count": null,
   "id": "informational-airline",
   "metadata": {},
   "outputs": [],
   "source": [
    "supVec_1 = svc_1.support_vectors_\n",
    "supVec_1"
   ]
  },
  {
   "cell_type": "code",
   "execution_count": null,
   "id": "universal-joshua",
   "metadata": {},
   "outputs": [],
   "source": [
    "svm_linear = widgets.Output()\n",
    "\n",
    "with svm_linear:\n",
    "    fig_2_1, ax_2_1 = plt.subplots(figsize = (6,4),tight_layout = True)\n",
    "    fig_2_1.suptitle('Modelo generado')\n",
    "\n",
    "    for key, group in grouped_1:\n",
    "        ax_2_1.scatter(group.x1, group.x2, label= f'Clase {key}', color = colors[key])\n",
    "\n",
    "    ax_2_1.plot(xx, yy_umbral,'k-', label = 'Umbral de decisión')\n",
    "    ax_2_1.plot(xx, yy_down, 'k--')\n",
    "    ax_2_1.plot(xx, yy_up, 'k--')\n",
    "\n",
    "    ax_2_1.scatter(supVec_1[:, 0], supVec_1[:, 1], s=80, facecolors = \"none\", \\\n",
    "                   edgecolors = \"k\", label = 'Vectores soporte')\n",
    "\n",
    "    ax_2_1.set_xlabel('x1')\n",
    "    ax_2_1.set_ylabel('x2')  \n",
    "    ax_2_1.grid(True)\n",
    "    ax_2_1.legend();"
   ]
  },
  {
   "cell_type": "code",
   "execution_count": null,
   "id": "worthy-mathematics",
   "metadata": {},
   "outputs": [],
   "source": [
    "choose_x1_1 = widgets.FloatText(\n",
    "    value = 0.0,\n",
    "    description = r'$x_1$'\n",
    ")\n",
    "\n",
    "choose_x2_1 = widgets.FloatText(\n",
    "    value = 0.0,\n",
    "    description = r'$x_2$'\n",
    ")"
   ]
  },
  {
   "cell_type": "code",
   "execution_count": null,
   "id": "incident-selling",
   "metadata": {},
   "outputs": [],
   "source": [
    "x1_1 = choose_x1_1.value\n",
    "x2_1 = choose_x2_1.value\n",
    "predictedValue = svc_1.predict(np.array([x1_1,x2_1]).reshape(1, -1))\n",
    "out_1 = widgets.HTMLMath(value = fr'El punto ({x1_1}, {x2_1}) pertenece a la clase: {predictedValue[0]}')"
   ]
  },
  {
   "cell_type": "code",
   "execution_count": null,
   "id": "digital-academy",
   "metadata": {},
   "outputs": [],
   "source": [
    "def update_out_1(change):\n",
    "    x1_1 = choose_x1_1.value\n",
    "    x2_1 = choose_x2_1.value\n",
    "    predictedValue = svc_1.predict(np.array([x1_1,x2_1]).reshape(1, -1))\n",
    "    out_1.value = fr'El punto ({x1_1}, {x2_1}) pertenece a la clase: {predictedValue[0]}'"
   ]
  },
  {
   "cell_type": "code",
   "execution_count": null,
   "id": "popular-fifteen",
   "metadata": {},
   "outputs": [],
   "source": [
    "choose_x1_1.observe(update_out_1,'value')\n",
    "choose_x2_1.observe(update_out_1,'value')"
   ]
  },
  {
   "cell_type": "code",
   "execution_count": null,
   "id": "biblical-vault",
   "metadata": {},
   "outputs": [],
   "source": [
    "widgets.VBox([svm_linear, choose_x1_1, choose_x2_1, out_1],layout = layout)"
   ]
  },
  {
   "cell_type": "markdown",
   "id": "atomic-intake",
   "metadata": {},
   "source": [
    "<hr>\n",
    "<h2>Ejemplo 2: DATOS NO SEPARABLES LINEALMENTE</h2>\n",
    "\n",
    "<ol>\n",
    "    <li>Se utiliza la librería <strong>scikit-learn</strong>:\n",
    "        <ol>\n",
    "            <li>El paquete <strong>svm</strong>.</li>\n",
    "            <li>El paquete <strong>datasets</strong>.</li>\n",
    "        </ol>\n",
    "    </li>\n",
    "    <br>\n",
    "    <li>Se hace uso de la función <strong>make_circles</strong> \n",
    "        para generar los datos correspondientes \n",
    "        a las 2 clases que se usan para \n",
    "        el entrenamiento del modelo. Las mismas tendrán la forma de un círculo grando con uno más pequeño adentro.\n",
    "        <ul>\n",
    "            <li><b>n_samples:</b> Número total de puntos dividido entre las \n",
    "                clases.</li>\n",
    "            <li><b>noise:</b> Deviación estandar del ruido gaussiano adicionado a las muestras.</li>\n",
    "            <li><b>factor:</b> Factor de escala entre el círculo interior y el exterior, en un rango de (0,1).</li>\n",
    "        </ul>\n",
    "    </li>\n",
    "</ol>"
   ]
  },
  {
   "cell_type": "code",
   "execution_count": null,
   "id": "heavy-senator",
   "metadata": {},
   "outputs": [],
   "source": [
    "X_2, y_2 = datasets.make_circles(n_samples = 100, noise=0.05)"
   ]
  },
  {
   "cell_type": "code",
   "execution_count": null,
   "id": "middle-camcorder",
   "metadata": {},
   "outputs": [],
   "source": [
    "data_2 = pd.DataFrame(dict(x1 = X_2[:,0], x2 = X_2[:,1], label = y_2))\n",
    "colors = {0:'red', 1:'blue'}\n",
    "\n",
    "fig_1_2, ax_1_2 = plt.subplots(figsize = (6,4),tight_layout = True)\n",
    "fig_1_2.suptitle('Datos de entrenamiento')\n",
    "\n",
    "grouped_2 = data_2.groupby('label')\n",
    "\n",
    "for key, group in grouped_2:\n",
    "    ax_1_2.scatter(group.x1, group.x2, label = f'Clase {key}', marker='.', color=colors[key])\n",
    "\n",
    "ax_1_2.set_xlabel('x1')\n",
    "ax_1_2.set_ylabel('x2')  \n",
    "ax_1_2.grid(True)\n",
    "ax_1_2.legend();\n"
   ]
  },
  {
   "cell_type": "markdown",
   "id": "premium-federal",
   "metadata": {},
   "source": [
    "<ol start=\"3\">\n",
    "    <li>Se crea una instancia de la clase <strong>SVC</strong>.\n",
    "    </li>\n",
    "</ol>"
   ]
  },
  {
   "cell_type": "code",
   "execution_count": null,
   "id": "scenic-piano",
   "metadata": {},
   "outputs": [],
   "source": [
    "svc_2 = svm.SVC(kernel='rbf')"
   ]
  },
  {
   "cell_type": "markdown",
   "id": "regulated-newman",
   "metadata": {},
   "source": [
    "<ol start=\"4\">\n",
    "    <li>Se entrena el modelo.\n",
    "    </li>\n",
    "</ol>"
   ]
  },
  {
   "cell_type": "code",
   "execution_count": null,
   "id": "right-embassy",
   "metadata": {},
   "outputs": [],
   "source": [
    "svc_2.fit(X_2, y_2)"
   ]
  },
  {
   "cell_type": "markdown",
   "id": "concerned-zealand",
   "metadata": {},
   "source": [
    "<ol start=\"5\">\n",
    "    <li>Se obtiene la curva de nivel del plano de separación, haciendo uso de\n",
    "        la función <strong>decision_function</strong>. Esta función brinda \n",
    "        información sobre de qué lado del hiperplano se encuentran las muestras\n",
    "        y a qué distancia.\n",
    "    </li>\n",
    "</ol>"
   ]
  },
  {
   "cell_type": "code",
   "execution_count": null,
   "id": "continent-university",
   "metadata": {},
   "outputs": [],
   "source": [
    "def getZ(model, XY, Xgrid):\n",
    "    Z = model.decision_function(XY).reshape(Xgrid.shape)\n",
    "    return Z\n",
    "\n",
    "xlim = ax_1_2.get_xlim()\n",
    "ylim = ax_1_2.get_ylim()\n",
    "\n",
    "Ygrid, Xgrid = np.meshgrid(np.linspace(ylim[0], ylim[1], 30), \\\n",
    "                       np.linspace(xlim[0], xlim[1], 30))\n",
    "\n",
    "XY = np.vstack([Xgrid.ravel(), Ygrid.ravel()]).T\n",
    "    \n",
    "Z = getZ(svc_2, XY, Xgrid)"
   ]
  },
  {
   "cell_type": "markdown",
   "id": "duplicate-error",
   "metadata": {},
   "source": [
    "<ol start=\"7\">\n",
    "    <li>Se obtienen los vectores soporte haciendo uso del atributo \n",
    "        <strong>support_vectors_</strong>.\n",
    "    </li>\n",
    "</ol>"
   ]
  },
  {
   "cell_type": "code",
   "execution_count": null,
   "id": "lasting-waters",
   "metadata": {},
   "outputs": [],
   "source": [
    "def getSupVec(model):\n",
    "    supVec_2 = model.support_vectors_\n",
    "    return supVec_2\n",
    "\n",
    "supVec_2 = getSupVec(svc_2)"
   ]
  },
  {
   "cell_type": "code",
   "execution_count": null,
   "id": "excited-ambassador",
   "metadata": {},
   "outputs": [],
   "source": [
    "svm_Nonlinear = widgets.Output()\n",
    "\n",
    "with svm_Nonlinear:\n",
    "    fig_2_2, ax_2_2 = plt.subplots(figsize = (6,4),tight_layout = True)\n",
    "    fig_2_2.suptitle('Modelo generado')\n",
    "\n",
    "    for key, group in grouped_2:\n",
    "        ax_2_2.scatter(group.x1, group.x2, label = f'Clase {key}', marker='.', color=colors[key])\n",
    "        \n",
    "    ax_2_2.contour(Xgrid, Ygrid, Z, levels=[0], linestyles=['-'], colors ='black')\n",
    "    \n",
    "    ax_2_2.scatter(supVec_2[:, 0], supVec_2[:, 1], s=80, facecolors = \"none\", \\\n",
    "                   edgecolors = \"k\", label = 'Vectores soporte')\n",
    "    \n",
    "    ax_2_2.set_xlabel('x1')\n",
    "    ax_2_2.set_ylabel('x2')  \n",
    "    ax_2_2.grid(True)\n",
    "    ax_2_2.legend();"
   ]
  },
  {
   "cell_type": "code",
   "execution_count": null,
   "id": "peripheral-blank",
   "metadata": {},
   "outputs": [],
   "source": [
    "choose_x1_2 = widgets.FloatText(\n",
    "    value = 0.0,\n",
    "    description = r'$x_1$'\n",
    ")\n",
    "\n",
    "choose_x2_2 = widgets.FloatText(\n",
    "    value = 0.0,\n",
    "    description = r'$x_2$'\n",
    ")"
   ]
  },
  {
   "cell_type": "code",
   "execution_count": null,
   "id": "extended-particle",
   "metadata": {},
   "outputs": [],
   "source": [
    "x1_2 = choose_x1_2.value\n",
    "x2_2 = choose_x2_2.value\n",
    "predictedValue2 = svc_2.predict(np.array([x1_2,x2_2]).reshape(1, -1))\n",
    "out_2 = widgets.HTMLMath(value = fr'El punto ({x1_2}, {x2_2}) pertenece a la clase: {predictedValue2[0]}')\n",
    "\n",
    "kernel = widgets.Dropdown(\n",
    "    options = ['Radial', 'Polinomial'],\n",
    "    value = 'Radial',\n",
    "    description = 'Kernel:',\n",
    "    layout = {'width': 'max-content'}\n",
    ")\n",
    "\n",
    "degree = widgets.Dropdown(\n",
    "    options = [1, 2, 3, 4, 5],\n",
    "    value = 2,\n",
    "    description = 'Degree:',\n",
    "    layout = {'width': 'max-content'}\n",
    ")"
   ]
  },
  {
   "cell_type": "code",
   "execution_count": null,
   "id": "geographic-buffer",
   "metadata": {},
   "outputs": [],
   "source": [
    "def update_out_2(change):\n",
    "    if(kernel.value == 'Radial'):\n",
    "        svc_2 = svm.SVC(kernel='rbf')\n",
    "    else:\n",
    "        svc_2 = svm.SVC(kernel='poly', degree = degree.value)\n",
    "    \n",
    "    svc_2.fit(X_2, y_2)\n",
    "    Z = getZ(svc_2, XY, Xgrid)\n",
    "    supVec_2 = getSupVec(svc_2)\n",
    "    \n",
    "    ax_2_2.cla()\n",
    "    for key, group in grouped_2:\n",
    "        ax_2_2.scatter(group.x1, group.x2, label = f'Clase {key}', marker='.', color=colors[key])\n",
    "        \n",
    "    ax_2_2.contour(Xgrid, Ygrid, Z, levels = [0], linestyles=['-'], colors ='black')\n",
    "    \n",
    "    ax_2_2.scatter(supVec_2[:, 0], supVec_2[:, 1], s = 80, facecolors = \"none\", \\\n",
    "                   edgecolors = \"k\", label = 'Vectores soporte')\n",
    "    \n",
    "    ax_2_2.set_xlabel('x1')\n",
    "    ax_2_2.set_ylabel('x2')  \n",
    "    ax_2_2.grid(True)\n",
    "    ax_2_2.legend();\n",
    "    \n",
    "    x1_2 = choose_x1_2.value\n",
    "    x2_2 = choose_x2_2.value\n",
    "    predictedValue2 = svc_2.predict(np.array([x1_2,x2_2]).reshape(1, -1))\n",
    "    out_2.value = fr'El punto ({x1_2}, {x2_2}) pertenece a la clase: {predictedValue2[0]}'"
   ]
  },
  {
   "cell_type": "code",
   "execution_count": null,
   "id": "competitive-newcastle",
   "metadata": {},
   "outputs": [],
   "source": [
    "choose_x1_2.observe(update_out_2,'value')\n",
    "choose_x2_2.observe(update_out_2,'value')\n",
    "kernel.observe(update_out_2,'value')\n",
    "degree.observe(update_out_2,'value')"
   ]
  },
  {
   "cell_type": "code",
   "execution_count": null,
   "id": "following-native",
   "metadata": {},
   "outputs": [],
   "source": [
    "widgets.VBox([svm_Nonlinear, widgets.HBox([kernel, degree]), choose_x1_2, choose_x2_2, out_2],layout = layout)"
   ]
  },
  {
   "cell_type": "markdown",
   "id": "vocational-friend",
   "metadata": {},
   "source": [
    "<hr>\n",
    "<h2>Ejemplo 3: APLICACIÓN DE MÁRGENES SUAVES</h2>\n",
    "<ol>\n",
    "    <li>Se utiliza la librería <strong>scikit-learn</strong>:\n",
    "        <ol>\n",
    "            <li>El paquete <strong>svm</strong>.</li>\n",
    "            <li>El paquete <strong>datasets</strong>.</li>\n",
    "        </ol>\n",
    "    </li>\n",
    "    <br>\n",
    "    <li>Se hace uso de la función <strong>make_blobs</strong> \n",
    "        para generar los datos correspondientes \n",
    "        a las distintas clases que se usan para \n",
    "        el entrenamiento del modelo.\n",
    "    </li>\n",
    "</ol>"
   ]
  },
  {
   "cell_type": "code",
   "execution_count": null,
   "id": "greek-election",
   "metadata": {},
   "outputs": [],
   "source": [
    "X_3, y_3 = datasets.make_blobs(n_samples = 100, centers = 2, n_features = 2, cluster_std = 1.2)"
   ]
  },
  {
   "cell_type": "code",
   "execution_count": null,
   "id": "oriented-michael",
   "metadata": {},
   "outputs": [],
   "source": [
    "data_3 = pd.DataFrame(dict(x1 = X_3[:,0], x2 = X_3[:,1], label = y_3))\n",
    "colors = {0:'red', 1:'blue'}\n",
    "\n",
    "fig_1_3, ax_1_3 = plt.subplots(figsize = (6,4),tight_layout = True)\n",
    "fig_1_3.suptitle('Datos de entrenamiento')\n",
    "\n",
    "grouped_3 = data_3.groupby('label')\n",
    "\n",
    "for key, group in grouped_3:\n",
    "    ax_1_3.scatter(group.x1, group.x2, label = f'Clase {key}', color = colors[key])\n",
    "\n",
    "ax_1_3.set_xlabel('x1')\n",
    "ax_1_3.set_ylabel('x2')  \n",
    "ax_1_3.grid(True)\n",
    "ax_1_3.legend();"
   ]
  },
  {
   "cell_type": "markdown",
   "id": "suited-prerequisite",
   "metadata": {},
   "source": [
    "<ol start=\"3\">\n",
    "    <li>Se crea una instancia de la clase <strong>SVC</strong>.\n",
    "        El atributo <strong>C</strong> es un factor de modificación que \n",
    "        \"suaviza\" el margen, es decir, permite que algunos de los puntos \n",
    "        se introduzcan en el margen si eso permite un mejor ajuste. \n",
    "        <ul>\n",
    "            <li>Para C muy grande, el margen es duro y los \n",
    "                puntos no pueden estar en él. </li>\n",
    "            <li>Para C más pequeño, el margen es más \n",
    "                suave y puede crecer para abarcar algunos puntos.</li>\n",
    "        </ul>\n",
    "    </li>\n",
    "</ol>"
   ]
  },
  {
   "cell_type": "code",
   "execution_count": null,
   "id": "virgin-arena",
   "metadata": {},
   "outputs": [],
   "source": [
    "Cvalues = widgets.Dropdown(\n",
    "    options = [0.01, 0.1,1, 10, 100, 1000, 10000],\n",
    "    value = 10000,\n",
    "    description = 'C:',\n",
    "    layout = {'width': 'max-content'}\n",
    ")\n",
    "\n",
    "svc_3 = svm.SVC(kernel = 'linear', C = Cvalues.value)"
   ]
  },
  {
   "cell_type": "markdown",
   "id": "appreciated-deviation",
   "metadata": {},
   "source": [
    "<ol start=\"4\">\n",
    "    <li>Se entrena el modelo.\n",
    "    </li>\n",
    "</ol>"
   ]
  },
  {
   "cell_type": "code",
   "execution_count": null,
   "id": "indirect-alarm",
   "metadata": {},
   "outputs": [],
   "source": [
    "svc_3.fit(X_3, y_3)"
   ]
  },
  {
   "cell_type": "markdown",
   "id": "center-detection",
   "metadata": {},
   "source": [
    "<ol start=\"5\">\n",
    "    <li>Se obtiene la recta umbral de decisión y las rectas paralelas que pasan\n",
    "        por los vectores soporte.\n",
    "    </li>\n",
    "</ol>"
   ]
  },
  {
   "cell_type": "code",
   "execution_count": null,
   "id": "perceived-temple",
   "metadata": {},
   "outputs": [],
   "source": [
    "def get_umbral (model, x_range):\n",
    "    w = model.coef_[0]\n",
    "    a = -w[0] / w[1]\n",
    "\n",
    "    y_umbral = a * x_range - (model.intercept_[0]) / w[1]\n",
    "    \n",
    "    margin = 1 / np.sqrt(np.sum(model.coef_ ** 2))\n",
    "\n",
    "    y_down = y_umbral - np.sqrt(1 + a ** 2) * margin\n",
    "    y_up = y_umbral + np.sqrt(1 + a ** 2) * margin\n",
    "    \n",
    "    return (y_umbral, y_down, y_up)\n",
    "\n",
    "x_range = np.linspace(np.min(X_3[:,0]), np.max(X_3[:,0]))\n",
    "y_umbral3, y_down3, y_up3 = get_umbral(svc_3, x_range) "
   ]
  },
  {
   "cell_type": "markdown",
   "id": "clear-biology",
   "metadata": {},
   "source": [
    "<ol start=\"6\">\n",
    "    <li>Se obtienen los vectores soporte.\n",
    "    </li>\n",
    "</ol>"
   ]
  },
  {
   "cell_type": "code",
   "execution_count": null,
   "id": "careful-variance",
   "metadata": {},
   "outputs": [],
   "source": [
    "supVec_3 = getSupVec(svc_3)"
   ]
  },
  {
   "cell_type": "code",
   "execution_count": null,
   "id": "interstate-comment",
   "metadata": {},
   "outputs": [],
   "source": [
    "svm_C = widgets.Output()\n",
    "\n",
    "with svm_C:\n",
    "    fig_2_3, ax_2_3 = plt.subplots(figsize = (6,4),tight_layout = True)\n",
    "    fig_2_3.suptitle('Modelo generado')\n",
    "\n",
    "    for key, group in grouped_3:\n",
    "        ax_2_3.scatter(group.x1, group.x2, label= f'Clase {key}', color = colors[key])\n",
    "\n",
    "    ax_2_3.plot(x_range, y_umbral3,'k-', label='Umbral de decisión')\n",
    "    ax_2_3.plot(x_range, y_down3, 'k--')\n",
    "    ax_2_3.plot(x_range, y_up3, 'k--')\n",
    "\n",
    "    ax_2_3.scatter(supVec_3[:, 0], supVec_3[:, 1], s=80, facecolors = \"none\", \\\n",
    "                   edgecolors = \"k\", label = 'Vectores soporte')\n",
    "\n",
    "    ax_2_3.set_xlabel('x1')\n",
    "    ax_2_3.set_ylabel('x2')  \n",
    "    ax_2_3.grid(True)\n",
    "    ax_2_3.legend();"
   ]
  },
  {
   "cell_type": "code",
   "execution_count": null,
   "id": "sapphire-holocaust",
   "metadata": {},
   "outputs": [],
   "source": [
    "choose_x1_3 = widgets.FloatText(\n",
    "    value = 0.0,\n",
    "    description = r'$x_1$'\n",
    ")\n",
    "\n",
    "choose_x2_3 = widgets.FloatText(\n",
    "    value = 0.0,\n",
    "    description = r'$x_2$'\n",
    ")"
   ]
  },
  {
   "cell_type": "code",
   "execution_count": null,
   "id": "buried-invalid",
   "metadata": {},
   "outputs": [],
   "source": [
    "x1_3 = choose_x1_3.value\n",
    "x2_3 = choose_x2_3.value\n",
    "predictedValue3 = svc_3.predict(np.array([x1_3,x2_3]).reshape(1, -1))\n",
    "out_3 = widgets.HTMLMath(value = fr'El punto ({x1_3}, {x2_3}) pertenece a la clase: {predictedValue3[0]}')"
   ]
  },
  {
   "cell_type": "code",
   "execution_count": null,
   "id": "after-exchange",
   "metadata": {},
   "outputs": [],
   "source": [
    "def update_out_3(change):\n",
    "    svc_3 = svm.SVC(kernel = 'linear', C = Cvalues.value)\n",
    "    svc_3.fit(X_3, y_3)\n",
    "    y_umbral3, y_down3, y_up3 = get_umbral(svc_3, x_range) \n",
    "    supVec_3 = getSupVec(svc_3)\n",
    "        \n",
    "    ax_2_3.cla()\n",
    "    for key, group in grouped_3:\n",
    "           ax_2_3.scatter(group.x1, group.x2, label= f'Clase {key}', color = colors[key])\n",
    "\n",
    "    ax_2_3.plot(x_range, y_umbral3,'k-', label='Umbral de decisión')\n",
    "    ax_2_3.plot(x_range, y_down3, 'k--')\n",
    "    ax_2_3.plot(x_range, y_up3, 'k--')\n",
    "\n",
    "    ax_2_3.scatter(supVec_3[:, 0], supVec_3[:, 1], s=80, facecolors = \"none\", \\\n",
    "                       edgecolors = \"k\", label = 'Vectores soporte')\n",
    "\n",
    "    ax_2_3.set_xlabel('x1')\n",
    "    ax_2_3.set_ylabel('x2')  \n",
    "    ax_2_3.grid(True)\n",
    "    ax_2_3.legend();\n",
    "        \n",
    "        \n",
    "    x1_3 = choose_x1_3.value\n",
    "    x2_3 = choose_x2_3.value\n",
    "    predictedValue3 = svc_3.predict(np.array([x1_3,x2_3]).reshape(1, -1))\n",
    "    out_3.value = fr'El punto ({x1_3}, {x2_3}) pertenece a la clase: {predictedValue3[0]}'"
   ]
  },
  {
   "cell_type": "code",
   "execution_count": null,
   "id": "operational-clause",
   "metadata": {},
   "outputs": [],
   "source": [
    "choose_x1_3.observe(update_out_3,'value')\n",
    "choose_x2_3.observe(update_out_3,'value')\n",
    "Cvalues.observe(update_out_3,'value')"
   ]
  },
  {
   "cell_type": "code",
   "execution_count": null,
   "id": "appointed-weekly",
   "metadata": {},
   "outputs": [],
   "source": [
    "widgets.VBox([svm_C, Cvalues, choose_x1_3, choose_x2_3, out_3],layout = layout)"
   ]
  }
 ],
 "metadata": {
  "kernelspec": {
   "display_name": "Python 3 (ipykernel)",
   "language": "python",
   "name": "python3"
  },
  "language_info": {
   "codemirror_mode": {
    "name": "ipython",
    "version": 3
   },
   "file_extension": ".py",
   "mimetype": "text/x-python",
   "name": "python",
   "nbconvert_exporter": "python",
   "pygments_lexer": "ipython3",
   "version": "3.9.7"
  },
  "toc-autonumbering": true
 },
 "nbformat": 4,
 "nbformat_minor": 5
}
