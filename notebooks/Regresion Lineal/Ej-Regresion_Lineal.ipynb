{
 "cells": [
  {
   "cell_type": "code",
   "execution_count": null,
   "id": "blind-sentence",
   "metadata": {},
   "outputs": [],
   "source": [
    "import ipywidgets as widgets\n",
    "import matplotlib.pyplot as plt\n",
    "import numpy as np\n",
    "import pandas as pd\n",
    "%matplotlib widget\n",
    "\n",
    "layout = widgets.Layout(align_items = 'center')"
   ]
  },
  {
   "cell_type": "markdown",
   "id": "portuguese-assignment",
   "metadata": {},
   "source": [
    "<h1>REGRESIÓN LINEAL</h1>\n",
    "<h2>SET DE DATOS</h2>  "
   ]
  },
  {
   "cell_type": "code",
   "execution_count": null,
   "id": "complex-scale",
   "metadata": {},
   "outputs": [],
   "source": [
    "dfHelados = pd.read_csv('helados.csv')\n",
    "dfHelados.head(5)"
   ]
  },
  {
   "cell_type": "markdown",
   "id": "indie-malaysia",
   "metadata": {},
   "source": [
    "Se utilizarán las columnas correspondientes al ingreso de las familias, el precio del helado y la temperatura del día para intentar <strong>predecir la cantidad de helado consumido</strong>."
   ]
  },
  {
   "cell_type": "markdown",
   "id": "careful-norfolk",
   "metadata": {},
   "source": [
    "<h2>ECUACIÓN NORMAL</h2>                                                         \n",
    "<ol>\n",
    "    <li>Conformación de la matriz X a partir de las variables de entrada:\n",
    "         $$\n",
    "           \\begin{bmatrix}\n",
    "            1\\quad x_1^0\\quad x_2^0\\quad x_3^0\\\\\n",
    "            1\\quad x_1^1\\quad x_2^1\\quad x_3^1\\\\\n",
    "            ... \\\\\n",
    "            1\\quad x_1^m\\quad x_2^m\\quad x_3^m\n",
    "           \\end{bmatrix}\n",
    "        $$\n",
    "    </li>\n",
    "</ol>"
   ]
  },
  {
   "cell_type": "code",
   "execution_count": null,
   "id": "intermediate-intersection",
   "metadata": {},
   "outputs": [],
   "source": [
    "Xtest = dfHelados.loc[:,'income':'temp'].values\n",
    "x0 = np.ones(shape = (Xtest.shape[0],1))\n",
    "X = np.hstack((x0, Xtest))"
   ]
  },
  {
   "cell_type": "markdown",
   "id": "double-installation",
   "metadata": {},
   "source": [
    "<ol start=\"2\">\n",
    "    <li>Conformación del vector de valores de salida:\n",
    "        $$\n",
    "        \\begin{bmatrix}\n",
    "            y^0\\\\\n",
    "            y^1\\\\\n",
    "            ... \\\\\n",
    "            y^m\n",
    "        \\end{bmatrix}\n",
    "        $$\n",
    "    </li>\n",
    "</ol>"
   ]
  },
  {
   "cell_type": "code",
   "execution_count": null,
   "id": "executed-reserve",
   "metadata": {},
   "outputs": [],
   "source": [
    "Y = dfHelados.loc[:,'cons'].values"
   ]
  },
  {
   "cell_type": "markdown",
   "id": "refined-access",
   "metadata": {},
   "source": [
    "<ol start=\"3\">\n",
    "    <li>Generación de la matriz transpuesta de X:\n",
    "    </li>\n",
    "</ol>"
   ]
  },
  {
   "cell_type": "code",
   "execution_count": null,
   "id": "fleet-omaha",
   "metadata": {},
   "outputs": [],
   "source": [
    "Xtrans = X.transpose()"
   ]
  },
  {
   "cell_type": "markdown",
   "id": "fatal-acoustic",
   "metadata": {},
   "source": [
    "<ol start=\"4\">\n",
    "    <li>Aplicación de la fórmula de ecuación normal:\n",
    "        $$\n",
    "            \\theta = \\left(X^T X\\right)^{-1}\\left(X^T y\\right)\n",
    "        $$\n",
    "    </li>\n",
    "</ol>"
   ]
  },
  {
   "cell_type": "code",
   "execution_count": null,
   "id": "regular-childhood",
   "metadata": {},
   "outputs": [],
   "source": [
    "theta = np.linalg.inv(Xtrans.dot(X)).dot(Xtrans).dot(Y)\n",
    "theta"
   ]
  },
  {
   "cell_type": "markdown",
   "id": "naughty-fever",
   "metadata": {},
   "source": [
    "<ol start=\"5\">\n",
    "    <li>Cálculo de los valores de salida predichos:\n",
    "        $$\n",
    "            h_{\\theta}(x)=\\theta_0x_0+\\theta_1x_1+\\theta_2x_2+\\theta_3x_3\n",
    "        $$\n",
    "    </li>\n",
    "</ol>"
   ]
  },
  {
   "cell_type": "code",
   "execution_count": null,
   "id": "circular-reach",
   "metadata": {},
   "outputs": [],
   "source": [
    "h = X.dot(theta)"
   ]
  },
  {
   "cell_type": "code",
   "execution_count": null,
   "id": "grand-tampa",
   "metadata": {},
   "outputs": [],
   "source": [
    "fig, ax = plt.subplots(figsize=(8,4),tight_layout = True)\n",
    "ax.scatter(np.arange(0,30),h,marker='x',c = np.linspace(0,1,30), label='Consumo predicho',alpha = 0.9)\n",
    "ax.scatter(np.arange(0,30),Y,marker='o',c = np.linspace(0,1,30), label='Consumo real',alpha = 0.9)\n",
    "ax.grid(True)\n",
    "ax.legend();"
   ]
  },
  {
   "cell_type": "markdown",
   "id": "consolidated-universal",
   "metadata": {},
   "source": [
    "<h2>GRADIENTE DESCENDENTE</h2>              "
   ]
  },
  {
   "cell_type": "markdown",
   "id": "hairy-version",
   "metadata": {},
   "source": [
    "<ol>\n",
    "    <li>Normalización y escalamiento de las variables de entrada:\n",
    "         $$\n",
    "            x_i := \\frac{x_i-\\mu_i}{\\sigma}\n",
    "         $$\n",
    "    </li>\n",
    "</ol>"
   ]
  },
  {
   "cell_type": "code",
   "execution_count": null,
   "id": "adult-supervision",
   "metadata": {},
   "outputs": [],
   "source": [
    "col_mask = ['income', 'price', 'temp']\n",
    "dfHelados2 = dfHelados.loc[:, col_mask]\n",
    "dfH_norm = (dfHelados2 - dfHelados2.mean(axis = 0)) / dfHelados2.std(axis = 0)  \n",
    "dfH_norm.head(5)"
   ]
  },
  {
   "cell_type": "markdown",
   "id": "physical-aging",
   "metadata": {},
   "source": [
    "<ol start=\"2\">\n",
    "    <li>Conformación de la matriz X a partir de las variables de entrada normalizadas:\n",
    "         $$\n",
    "           \\begin{bmatrix}\n",
    "            1\\quad x_1^0\\quad x_2^0\\quad x_3^0\\\\\n",
    "            1\\quad x_1^1\\quad x_2^1\\quad x_3^1\\\\\n",
    "            ... \\\\\n",
    "            1\\quad x_1^m\\quad x_2^m\\quad x_3^m\n",
    "           \\end{bmatrix}\n",
    "        $$\n",
    "    </li>\n",
    "</ol>"
   ]
  },
  {
   "cell_type": "code",
   "execution_count": null,
   "id": "noticed-boards",
   "metadata": {},
   "outputs": [],
   "source": [
    "X_gd = dfH_norm.values\n",
    "x0_gd = np.ones(shape = (X_gd.shape[0],1))\n",
    "X_gd = np.hstack((x0_gd, X_gd))"
   ]
  },
  {
   "cell_type": "markdown",
   "id": "seasonal-division",
   "metadata": {},
   "source": [
    "<ol start=\"3\">\n",
    "    <li>Conformación del vector de valores de salida:\n",
    "        $$\n",
    "        \\begin{bmatrix}\n",
    "            y^0\\\\\n",
    "            y^1\\\\\n",
    "            ... \\\\\n",
    "            y^m\n",
    "        \\end{bmatrix}\n",
    "        $$\n",
    "    </li>\n",
    "</ol>"
   ]
  },
  {
   "cell_type": "code",
   "execution_count": null,
   "id": "ambient-student",
   "metadata": {},
   "outputs": [],
   "source": [
    "Y_gd = dfHelados.loc[:,'cons'].values.reshape(-1, 1)"
   ]
  },
  {
   "cell_type": "markdown",
   "id": "gentle-simpson",
   "metadata": {},
   "source": [
    "<ol start=\"4\">\n",
    "    <li>Selección del parámetro $\\alpha$\n",
    "    </li>\n",
    "</ol>"
   ]
  },
  {
   "cell_type": "code",
   "execution_count": null,
   "id": "careful-uruguay",
   "metadata": {},
   "outputs": [],
   "source": [
    "alpha_slider = widgets.FloatSlider(min = 0,max = 0.9,step = 0.001,value = 0.5,description = r'$\\alpha$')"
   ]
  },
  {
   "cell_type": "markdown",
   "id": "automated-president",
   "metadata": {},
   "source": [
    "<ol start=\"5\">\n",
    "    <li>Aplicación del algoritmo iterativo de gradiente descendente:\n",
    "        $$\n",
    "        \\theta_j := \\theta_j - \\alpha \\frac{\\partial}{\\partial\\theta_j}J(\\theta_0, \\theta_1)\n",
    "        $$\n",
    "    </li>\n",
    "</ol>"
   ]
  },
  {
   "cell_type": "code",
   "execution_count": null,
   "id": "opposite-thirty",
   "metadata": {},
   "outputs": [],
   "source": [
    "def plot_J_gd(alpha,X,Y):\n",
    "    m = X.shape[0]\n",
    "    \n",
    "    t = np.zeros(shape = (X.shape[1],1))\n",
    "     \n",
    "    J = np.array([])\n",
    "\n",
    "    for i in range(0,10):\n",
    "        h_gd = X.dot(t[:,-1])\n",
    "        h_gd = h_gd.reshape(-1, 1)\n",
    "        J = np.append(J, 1/(2 * m) * np.sum(np.square(h_gd - Y)))\n",
    "        t_temp = np.array([]) \n",
    "        for j in range(0,t.shape[0]):\n",
    "            t_temp = np.append(t_temp, t[j,i] - alpha/m * (X[:,j].reshape(1, -1).dot(h_gd - Y)))\n",
    "        t = np.hstack((t,t_temp.reshape(-1, 1)))\n",
    "    return t, J"
   ]
  },
  {
   "cell_type": "markdown",
   "id": "recorded-former",
   "metadata": {},
   "source": [
    "<ol start=\"6\">\n",
    "    <li>Cálculo de los valores de salida predichos:\n",
    "        $$\n",
    "            h_{\\theta}(x)=\\theta_0x_0+\\theta_1x_1+\\theta_2x_2+\\theta_3x_3\n",
    "        $$\n",
    "    </li>\n",
    "</ol>"
   ]
  },
  {
   "cell_type": "code",
   "execution_count": null,
   "id": "brown-variety",
   "metadata": {},
   "outputs": [],
   "source": [
    "def h_gd_value(t,X):\n",
    "    h = X.dot(t[:,-1])\n",
    "    return h"
   ]
  },
  {
   "cell_type": "code",
   "execution_count": null,
   "id": "speaking-doctor",
   "metadata": {},
   "outputs": [],
   "source": [
    "plots_gd = widgets.Output()\n",
    "\n",
    "with plots_gd:\n",
    "    fig_gd, axs_gd = plt.subplots(3,1,figsize = (7,8),tight_layout = True)\n",
    "    fig_gd.suptitle(r'Gradiente descendente')\n",
    "    \n",
    "    axs_gd[1].set_title(fr'Variación de función costo $J(\\theta)$')\n",
    "    t_gd, J_gd = plot_J_gd(alpha_slider.value,X_gd,Y_gd)\n",
    "    linej, = axs_gd[1].plot(J_gd)\n",
    "    axs_gd[1].plot()\n",
    "    axs_gd[1].set_ylabel(r'$J(\\theta)$')   \n",
    "    axs_gd[1].set_xlabel(r'N° de iteraciones')   \n",
    "    axs_gd[1].grid(True)\n",
    "    \n",
    "    axs_gd[0].set_title(fr'Hipótesis vs Valores de salida reales')\n",
    "    h_gd = h_gd_value(t_gd,X_gd)\n",
    "    lineh, = axs_gd[0].plot(h_gd,'rx', label='Consumo predicho',alpha = 0.9)\n",
    "    axs_gd[0].scatter(np.arange(0,30),Y_gd,marker='o',label='Consumo real',alpha = 0.9)\n",
    "    axs_gd[0].legend()\n",
    "    axs_gd[0].grid(True)\n",
    "                        \n",
    "    axs_gd[2].set_title(fr'Variación de $\\theta_j$')\n",
    "    theta0, = axs_gd[2].plot(t_gd[0,:],label=r'$\\theta_0$')\n",
    "    theta1, = axs_gd[2].plot(t_gd[1,:],label=r'$\\theta_1$')\n",
    "    theta2, = axs_gd[2].plot(t_gd[2,:],label=r'$\\theta_2$')\n",
    "    theta3, = axs_gd[2].plot(t_gd[3,:],label=r'$\\theta_3$')\n",
    "    axs_gd[2].set_ylabel(r'$\\theta$')   \n",
    "    axs_gd[2].set_xlabel(r'N° de iteraciones')   \n",
    "    axs_gd[2].grid(True)\n",
    "    axs_gd[2].legend()"
   ]
  },
  {
   "cell_type": "code",
   "execution_count": null,
   "id": "sound-visitor",
   "metadata": {},
   "outputs": [],
   "source": [
    "out_t0_gd = widgets.HTMLMath(value = fr'El valor de $\\theta_0$ después de 10 iteraciones es: {t_gd[0,-1]:.4f}')\n",
    "    \n",
    "out_t1_gd = widgets.HTMLMath(value = fr'El valor de $\\theta_1$ después de 10 iteraciones es: {t_gd[1,-1]:.4f}')\n",
    "\n",
    "out_t2_gd = widgets.HTMLMath(value = fr'El valor de $\\theta_2$ después de 10 iteraciones es: {t_gd[2,-1]:.4f}')\n",
    "    \n",
    "out_t3_gd = widgets.HTMLMath(value = fr'El valor de $\\theta_3$ después de 10 iteraciones es: {t_gd[3,-1]:.4f}')\n"
   ]
  },
  {
   "cell_type": "code",
   "execution_count": null,
   "id": "affiliated-dollar",
   "metadata": {},
   "outputs": [],
   "source": [
    "def update_gd (change):\n",
    "    t_gd, J_gd = plot_J_gd(alpha_slider.value,X_gd,Y_gd)\n",
    "    linej.set_ydata(J_gd)\n",
    "    h_gd = h_gd_value(t_gd,X_gd)\n",
    "    lineh.set_ydata(h_gd)\n",
    "    theta0.set_ydata(t_gd[0,:])\n",
    "    theta1.set_ydata(t_gd[1,:])\n",
    "    theta2.set_ydata(t_gd[2,:])\n",
    "    theta3.set_ydata(t_gd[3,:])\n",
    "    out_t0_gd.value = fr'El valor de $\\theta_0$ después de 10 iteraciones es: {t_gd[0,-1]:.4f}'\n",
    "    out_t1_gd.value = fr'El valor de $\\theta_1$ después de 10 iteraciones es: {t_gd[1,-1]:.4f}'\n",
    "    out_t2_gd.value = fr'El valor de $\\theta_2$ después de 10 iteraciones es: {t_gd[2,-1]:.4f}'\n",
    "    out_t3_gd.value = fr'El valor de $\\theta_3$ después de 10 iteraciones es: {t_gd[3,-1]:.4f}'\n",
    "    \n",
    "alpha_slider.observe(update_gd ,'value')\n",
    "\n",
    "widgets.VBox([plots_gd,alpha_slider, out_t0_gd, out_t1_gd, out_t2_gd, out_t3_gd],layout=layout)\n",
    "\n"
   ]
  },
  {
   "cell_type": "markdown",
   "id": "dependent-limitation",
   "metadata": {},
   "source": [
    "<div class=\"alert alert-block alert-success\">\n",
    "<b>Conclusiones:</b>\n",
    "    <ol>\n",
    "    <li>Si $\\alpha$ es muy pequeño, la convergencia del gradiente descendente es lenta (requiere más iteraciones).</li>\n",
    "    <li>El valor de la función de costo $J(\\theta)$ decrece en cada iteración.</li>\n",
    "    <li>Mientras menor sea el valor de la función costo $J(\\theta)$, la función hipótesis realizará mejores predicciones de los valores de salida $y$.</li>\n",
    "</ol>\n",
    "    \n",
    "</div>"
   ]
  },
  {
   "cell_type": "markdown",
   "id": "excessive-treasurer",
   "metadata": {},
   "source": [
    "<h3>Gradiente descendente sin normalizar</h3>        "
   ]
  },
  {
   "cell_type": "code",
   "execution_count": null,
   "id": "understanding-poker",
   "metadata": {},
   "outputs": [],
   "source": [
    "dfHelados2.head(5)"
   ]
  },
  {
   "cell_type": "code",
   "execution_count": null,
   "id": "soviet-bridal",
   "metadata": {},
   "outputs": [],
   "source": [
    "X_gdSn = dfHelados2.values\n",
    "x0_gdSn = np.ones(shape = (X_gdSn.shape[0],1))\n",
    "X_gdSn = np.hstack((x0_gdSn, X_gdSn))\n",
    "\n",
    "Y_gdSn = dfHelados.loc[:,'cons'].values.reshape(-1, 1)"
   ]
  },
  {
   "cell_type": "code",
   "execution_count": null,
   "id": "acquired-immunology",
   "metadata": {},
   "outputs": [],
   "source": [
    "alphaSn_slider = widgets.FloatSlider(min = 0,max = 0.09,step = 0.001,value = 0.05,description = r'$\\alpha$')"
   ]
  },
  {
   "cell_type": "code",
   "execution_count": null,
   "id": "rubber-career",
   "metadata": {},
   "outputs": [],
   "source": [
    "plots_gdSn = widgets.Output()\n",
    "\n",
    "with plots_gdSn:\n",
    "    fig_gdSn, axs_gdSn = plt.subplots(3,1,figsize = (7,8),tight_layout = True)\n",
    "    fig_gdSn.suptitle(r'Gradiente descendente sin normalización')\n",
    "    \n",
    "    axs_gdSn[1].set_title(fr'Variación de función costo $J(\\theta)$')\n",
    "    t_gdSn, J_gdSn = plot_J_gd(alphaSn_slider.value,X_gdSn,Y_gdSn)\n",
    "    linejSn, = axs_gdSn[1].plot(J_gdSn)\n",
    "    axs_gdSn[1].set_ylabel(r'$J(\\theta)$')   \n",
    "    axs_gdSn[1].set_xlabel(r'N° de iteraciones')   \n",
    "    axs_gdSn[1].grid(True)\n",
    "    \n",
    "    axs_gdSn[0].set_title(fr'Hipótesis vs Valores de salida reales')\n",
    "    h_gdSn = h_gd_value(t_gdSn,X_gdSn)\n",
    "    linehSn, = axs_gdSn[0].plot(h_gdSn,'rx', label='Consumo predicho',alpha = 0.9)\n",
    "    axs_gdSn[0].scatter(np.arange(0,30),Y_gdSn,marker='o',label='Consumo real',alpha = 0.9)\n",
    "    axs_gdSn[0].legend()\n",
    "    axs_gdSn[0].grid(True)\n",
    "    \n",
    "    axs_gdSn[2].set_title(fr'Variación de $\\theta_j$')\n",
    "    theta0Sn, = axs_gdSn[2].plot(t_gdSn[0,:],label=r'$\\theta_0$')\n",
    "    theta1Sn, = axs_gdSn[2].plot(t_gdSn[1,:],label=r'$\\theta_1$')\n",
    "    theta2Sn, = axs_gdSn[2].plot(t_gdSn[2,:],label=r'$\\theta_2$')\n",
    "    theta3Sn, = axs_gdSn[2].plot(t_gdSn[3,:],label=r'$\\theta_3$')\n",
    "    axs_gdSn[2].set_ylabel(r'$\\theta$')   \n",
    "    axs_gdSn[2].set_xlabel(r'N° de iteraciones')   \n",
    "    axs_gdSn[2].grid(True)\n",
    "    axs_gdSn[2].legend()\n",
    "    "
   ]
  },
  {
   "cell_type": "code",
   "execution_count": null,
   "id": "equivalent-chicago",
   "metadata": {},
   "outputs": [],
   "source": [
    "out_t0_gdSn = widgets.HTMLMath(value = fr'El valor de $\\theta_0$ después de 10 iteraciones es: {t_gdSn[0,-1]:.4e}')\n",
    "    \n",
    "out_t1_gdSn = widgets.HTMLMath(value = fr'El valor de $\\theta_1$ después de 10 iteraciones es: {t_gdSn[1,-1]:.4e}')\n",
    "\n",
    "out_t2_gdSn = widgets.HTMLMath(value = fr'El valor de $\\theta_2$ después de 10 iteraciones es: {t_gdSn[2,-1]:.4e}')\n",
    "    \n",
    "out_t3_gdSn = widgets.HTMLMath(value = fr'El valor de $\\theta_3$ después de 10 iteraciones es: {t_gdSn[3,-1]:.4e}')"
   ]
  },
  {
   "cell_type": "code",
   "execution_count": null,
   "id": "specialized-gilbert",
   "metadata": {},
   "outputs": [],
   "source": [
    "def update_gdSn (change):\n",
    "    t_gdSn, J_gdSn = plot_J_gd(alphaSn_slider.value,X_gdSn,Y_gdSn)\n",
    "    axs_gdSn[1].cla()\n",
    "    linejSn, = axs_gdSn[1].plot(J_gdSn)\n",
    "    axs_gdSn[1].set_ylabel(r'$J(\\theta)$')   \n",
    "    axs_gdSn[1].set_xlabel(r'N° de iteraciones')  \n",
    "    axs_gdSn[1].grid(True)\n",
    "    \n",
    "    h_gdSn = h_gd_value(t_gdSn,X_gdSn)\n",
    "    axs_gdSn[0].cla()\n",
    "    linehSn, = axs_gdSn[0].plot(h_gdSn,'rx', label='Consumo predicho',alpha = 0.9)\n",
    "    axs_gdSn[0].scatter(np.arange(0,30),Y_gdSn,marker='o',label='Consumo real',alpha = 0.9)\n",
    "    axs_gdSn[0].legend()\n",
    "    axs_gdSn[0].grid(True)\n",
    "    \n",
    "    axs_gdSn[2].cla()\n",
    "    theta0Sn, = axs_gdSn[2].plot(t_gdSn[0,:],label=r'$\\theta_0$')\n",
    "    theta1Sn, = axs_gdSn[2].plot(t_gdSn[1,:],label=r'$\\theta_1$')\n",
    "    theta2Sn, = axs_gdSn[2].plot(t_gdSn[2,:],label=r'$\\theta_2$')\n",
    "    theta3Sn, = axs_gdSn[2].plot(t_gdSn[3,:],label=r'$\\theta_3$')\n",
    "    axs_gdSn[2].set_ylabel(r'$\\theta$')   \n",
    "    axs_gdSn[2].set_xlabel(r'N° de iteraciones')   \n",
    "    axs_gdSn[2].grid(True)\n",
    "    axs_gdSn[2].legend();\n",
    "\n",
    "    out_t0_gdSn.value = fr'El valor de $\\theta_0$ después de 10 iteraciones es: {t_gdSn[0,-1]:.4e}'\n",
    "    out_t1_gdSn.value = fr'El valor de $\\theta_1$ después de 10 iteraciones es: {t_gdSn[1,-1]:.4e}'\n",
    "    out_t2_gdSn.value = fr'El valor de $\\theta_2$ después de 10 iteraciones es: {t_gdSn[2,-1]:.4e}'\n",
    "    out_t3_gdSn.value = fr'El valor de $\\theta_3$ después de 10 iteraciones es: {t_gdSn[3,-1]:.4e}'\n",
    "    \n",
    "alphaSn_slider.observe(update_gdSn ,'value')\n",
    "\n",
    "widgets.VBox([plots_gdSn,alphaSn_slider, out_t0_gdSn, out_t1_gdSn, out_t2_gdSn, out_t3_gdSn],layout=layout)\n"
   ]
  },
  {
   "cell_type": "markdown",
   "id": "noble-ethiopia",
   "metadata": {},
   "source": [
    "<div class=\"alert alert-block alert-danger\">\n",
    "<b>Conclusiones:</b> \n",
    "    <ol>\n",
    "        <li>Si las variables de entrada (features) $x_j$ poseen rangos de valores muy diferentes, \n",
    "            es <b>necesario</b> realizar la normalización de las mismas para asegurar la \n",
    "            convergencia del gradiente descendente.</li>\n",
    "    </ol>\n",
    "</div>"
   ]
  },
  {
   "cell_type": "markdown",
   "id": "fallen-latvia",
   "metadata": {},
   "source": [
    "<h3>Gradiente descendente con regularización</h3>    "
   ]
  },
  {
   "cell_type": "code",
   "execution_count": null,
   "id": "local-triangle",
   "metadata": {},
   "outputs": [],
   "source": [
    "df_util = dfH_norm.loc[:,['income','price','temp']]"
   ]
  },
  {
   "cell_type": "code",
   "execution_count": null,
   "id": "aggressive-representation",
   "metadata": {},
   "outputs": [],
   "source": [
    "extra1 = df_util['income'].values * 2 + np.random.randn(df_util.shape[0]) \n",
    "df_extra1 = pd.DataFrame(extra1)\n",
    "df_extra1 = (df_extra1 - df_extra1.mean(axis = 0)) / df_extra1.std(axis = 0)  \n"
   ]
  },
  {
   "cell_type": "code",
   "execution_count": null,
   "id": "conceptual-arrival",
   "metadata": {},
   "outputs": [],
   "source": [
    "dfH_reg = pd.concat([df_util, df_extra1],axis=1)\n",
    "dfH_reg.head(5)"
   ]
  },
  {
   "cell_type": "code",
   "execution_count": null,
   "id": "parliamentary-revision",
   "metadata": {},
   "outputs": [],
   "source": [
    "dfH_reg.corr().style.background_gradient(cmap='coolwarm')"
   ]
  },
  {
   "cell_type": "code",
   "execution_count": null,
   "id": "attached-edwards",
   "metadata": {},
   "outputs": [],
   "source": [
    "X_reg = dfH_reg.values\n",
    "x0_reg = np.ones(shape = (X_reg.shape[0],1))\n",
    "X_reg = np.hstack((x0_reg, X_reg))"
   ]
  },
  {
   "cell_type": "code",
   "execution_count": null,
   "id": "inappropriate-sculpture",
   "metadata": {},
   "outputs": [],
   "source": [
    "Y_reg = dfHelados.loc[:,'cons'].values.reshape(-1, 1)"
   ]
  },
  {
   "cell_type": "code",
   "execution_count": null,
   "id": "sustained-producer",
   "metadata": {},
   "outputs": [],
   "source": [
    "alphaReg_slider = widgets.FloatSlider(min = 0,max = 0.9,step = 0.01,value = 0.5,description = r'$\\alpha$')\n",
    "lambdaReg_slider = widgets.FloatSlider(min = 0,max = 10.00,step = 0.1,value = 0.00,description = r'$\\lambda$')"
   ]
  },
  {
   "cell_type": "code",
   "execution_count": null,
   "id": "interested-deputy",
   "metadata": {},
   "outputs": [],
   "source": [
    "def plot_J_gdReg(alpha, X, Y, l):\n",
    "    m = X.shape[0]\n",
    "    \n",
    "    t = np.zeros(shape = (X.shape[1],1))\n",
    "     \n",
    "    J = np.array([])\n",
    "\n",
    "    for i in range(0,20):\n",
    "        h_gd = X.dot(t[:,-1])\n",
    "        h_gd = h_gd.reshape(-1, 1)\n",
    "        \n",
    "        J = np.append(J, 1/(2 * m) *(np.sum(np.square(h_gd - Y)) + l * sum(np.square(t[1:,i]))))\n",
    "            \n",
    "        t_temp = np.array([]) \n",
    "        \n",
    "        for j in range(0,t.shape[0]):\n",
    "            if j == 0:\n",
    "                t_temp = np.append(t_temp, t[j,i] - alpha/m * (X[:,j].reshape(1, -1).dot(h_gd - Y)))\n",
    "            else:\n",
    "                t_temp = np.append(t_temp, t[j,i] - alpha/m * ((X[:,j].reshape(1, -1).dot(h_gd - Y)) + l * t[j,i]))\n",
    "                \n",
    "        t = np.hstack((t,t_temp.reshape(-1, 1)))\n",
    "    return t, J"
   ]
  },
  {
   "cell_type": "code",
   "execution_count": null,
   "id": "numeric-realtor",
   "metadata": {},
   "outputs": [],
   "source": [
    "plots_gdReg = widgets.Output()\n",
    "\n",
    "with plots_gdReg:\n",
    "    fig_gdReg, axs_gdReg = plt.subplots(2,1,figsize = (7,6),tight_layout = True)\n",
    "    fig_gdReg.suptitle(r'Gradiente descendente con regularización')\n",
    "    \n",
    "    axs_gdReg[1].set_title(r'Variación de función costo $J(\\theta)$')\n",
    "    t_gdReg, J_gdReg = plot_J_gdReg(alphaReg_slider.value,X_reg,Y_reg,lambdaReg_slider.value)\n",
    "    linejReg, = axs_gdReg[1].plot(J_gdReg)\n",
    "    axs_gdReg[1].set_ylabel(r'$J(\\theta)$')   \n",
    "    axs_gdReg[1].set_xlabel(r'N° de iteraciones')   \n",
    "    axs_gdReg[1].grid(True)\n",
    "    \n",
    "    axs_gdReg[0].set_title(r'Hipótesis vs Valores de salida reales')\n",
    "    h_gdReg = h_gd_value(t_gdReg,X_reg)\n",
    "    linehReg, = axs_gdReg[0].plot(h_gdReg,'rx', label='Consumo predicho',alpha = 0.9)\n",
    "    axs_gdReg[0].plot(Y_reg,'o',label='Consumo real',alpha = 0.9)\n",
    "    axs_gdReg[0].legend()\n",
    "    axs_gdReg[0].grid(True)\n",
    "    "
   ]
  },
  {
   "cell_type": "code",
   "execution_count": null,
   "id": "stable-triple",
   "metadata": {},
   "outputs": [],
   "source": [
    "out_t1_gdReg = widgets.HTMLMath(value = fr'El valor de $\\theta_1$ después de 20 iteraciones es: {t_gdReg[1,-1]:.4f}')\n",
    "out_t4_gdReg = widgets.HTMLMath(value = fr'El valor de $\\theta_4$ después de 20 iteraciones es: {t_gdReg[4,-1]:.4f}')\n",
    "\n",
    "out_J = widgets.HTMLMath(value = fr'El valor de $J(\\theta)$  después de 20 iteraciones es: {J_gdReg[-1]:.5f}')"
   ]
  },
  {
   "cell_type": "code",
   "execution_count": null,
   "id": "friendly-heading",
   "metadata": {},
   "outputs": [],
   "source": [
    "def update_gdReg (change):\n",
    "    t_gdReg, J_gdReg = plot_J_gdReg(alphaReg_slider.value,X_reg,Y_reg,lambdaReg_slider.value)\n",
    "    linejReg.set_ydata(J_gdReg)\n",
    "    h_gdReg = h_gd_value(t_gdReg,X_reg)\n",
    "    linehReg.set_ydata(h_gdReg)\n",
    "    \n",
    "    out_t1_gdReg.value = fr'El valor de $\\theta_1$ después de 20 iteraciones es: {t_gdReg[1,-1]:.4f}'\n",
    "    out_t4_gdReg.value = fr'El valor de $\\theta_4$ después de 20 iteraciones es: {t_gdReg[4,-1]:.4f}'\n",
    "    \n",
    "    out_J.value = fr'El valor de $J(\\theta)$ después de 20 iteraciones es: {J_gdReg[-1]:.5f}'\n",
    "    \n",
    "alphaReg_slider.observe(update_gdReg ,'value')\n",
    "lambdaReg_slider.observe(update_gdReg ,'value')\n",
    "\n",
    "widgets.VBox([plots_gdReg,alphaReg_slider,\\\n",
    "              lambdaReg_slider, \\\n",
    "              out_t1_gdReg, \\\n",
    "              out_t4_gdReg, \\\n",
    "              out_J], layout=layout)\n"
   ]
  },
  {
   "cell_type": "markdown",
   "id": "coordinated-mattress",
   "metadata": {},
   "source": [
    "<div  class=\"alert alert-block alert-warning\">\n",
    "<b>Conclusiones:</b> \n",
    "    <ol>\n",
    "        <li>Cuando existe una fuerte correlación entre 2 variables de entrada, es necesario aplicar regularización \n",
    "            para simplificar el modelo.</li>\n",
    "        <li>Una variable correlacionada a otra no tendrá un gran impacto en mejorar el modelo, solo le \n",
    "            agregará complejidad.</li>\n",
    "        <li>Aplicar regularización evita problemas de overfitting.</li>\n",
    "        <li>El parámetro $\\lambda$ es un número real positivo que controla el impacto de la regularización.</li>\n",
    "        <li>Al aumentar el grado de regularización, aumenta el valor de la función de costo $J(\\theta)$.</li>\n",
    "    </ol>\n",
    "</div>"
   ]
  },
  {
   "cell_type": "markdown",
   "id": "grave-organizer",
   "metadata": {},
   "source": [
    "<h2>IMPLEMENTACIÓN CON LIBRERÍAS ESPECIALIZADAS</h2>\n",
    "\n",
    "<ol>\n",
    "    <li>Se utiliza la librería <strong>scikit-learn</strong>\n",
    "    </li>\n",
    "</ol>"
   ]
  },
  {
   "cell_type": "code",
   "execution_count": null,
   "id": "creative-killing",
   "metadata": {},
   "outputs": [],
   "source": [
    "from sklearn.linear_model import LinearRegression"
   ]
  },
  {
   "cell_type": "markdown",
   "id": "bibliographic-spoke",
   "metadata": {},
   "source": [
    "<ol start=\"2\">\n",
    "    <li>Los arreglos de entrada y salida deben ser <strong>NumPy arrays</strong>.\n",
    "        <ul>\n",
    "            <li>El arreglo de <strong>X</strong> debe tener <strong>2 dimensiones</strong>: cada columna debe corresponder con una variable de entrada y cada fila con una observación particular.</li>\n",
    "            <li>El arreglo de <strong>Y</strong> debe tener <strong>1 dimensión</strong>, siendo cada elemento la salida de cada una de las observaciones</li>\n",
    "        </ul>\n",
    "    </li>\n",
    "</ol>"
   ]
  },
  {
   "cell_type": "code",
   "execution_count": null,
   "id": "vulnerable-cuisine",
   "metadata": {},
   "outputs": [],
   "source": [
    "Xtest = dfHelados.loc[:,'income':'temp'].values\n",
    "Xtest"
   ]
  },
  {
   "cell_type": "code",
   "execution_count": null,
   "id": "loose-nomination",
   "metadata": {},
   "outputs": [],
   "source": [
    "Y = dfHelados.loc[:,'cons'].values\n",
    "Y"
   ]
  },
  {
   "cell_type": "markdown",
   "id": "779552a9-3dc7-43c8-8650-fa1646203f39",
   "metadata": {},
   "source": [
    "<ol start=\"3\">\n",
    "    <li>Se normalizan los valores de los parámetros de entrada. \n",
    "        Para ello se utiliza la clase <strong>StandardScaler</strong>.\n",
    "        Algunos de los parámetros que posee esta clase son:\n",
    "        <ul>\n",
    "          <li><strong>with_mean</strong> decide si centra los \n",
    "              datos antes de realizar el escalado.</li>\n",
    "          <li><strong>with_std</strong> decide si escala los \n",
    "              datos para tener varianza unitaria, es decir, desviación unitaria.</li>\n",
    "        </ul>\n",
    "        Por defecto with_mean y with_std se consideran True.\n",
    "    <br> \n",
    "    Algunos de sus métodos son:\n",
    "         <ul>\n",
    "             <li><strong>fit</strong> calcula la media y desviación estándar \n",
    "                 que será usado luego para realizar el escalado.</li>\n",
    "             <li><strong>transform</strong> realiza la estandarización de los\n",
    "                 datos mediante el centrado y escalado.</li>\n",
    "             <li><strong>fit_transform</strong> calcula la media y desviación \n",
    "                 estándar de los datos y luego realiza su transformación.</li>\n",
    "         </ul>\n",
    "    </li>\n",
    "</ol>"
   ]
  },
  {
   "cell_type": "code",
   "execution_count": null,
   "id": "a5cb8c19-f434-4b2b-8ab5-e9a6503a129e",
   "metadata": {},
   "outputs": [],
   "source": [
    "from sklearn.preprocessing import StandardScaler\n",
    "scaler = StandardScaler()\n",
    "Xtest = scaler.fit_transform(Xtest)\n",
    "Xtest"
   ]
  },
  {
   "cell_type": "markdown",
   "id": "32e59b5d-43a1-4264-afaf-c1fb9ff08243",
   "metadata": {},
   "source": [
    "<ol style=\"list-style-type:none;\">\n",
    "    <li>\n",
    "        Es posible acceder a los atributos de la clase StandardScaler entrenada:\n",
    "    </li>\n",
    "</ol>"
   ]
  },
  {
   "cell_type": "code",
   "execution_count": null,
   "id": "6cad7be1-e96e-4cbe-8bd0-fdab1e4cf64b",
   "metadata": {},
   "outputs": [],
   "source": [
    "print(f\"\"\"Los valores de media son: {scaler.mean_}\n",
    "Los valores de desviación estándar son: {scaler.var_}\"\"\")"
   ]
  },
  {
   "cell_type": "markdown",
   "id": "lyric-share",
   "metadata": {},
   "source": [
    "<ol start=\"4\">\n",
    "    <li>Se crea una instancia de la clase <strong>LinearRegression</strong>, la cual tiene muchos parámetros opcionales:\n",
    "        <ul>\n",
    "          <li><strong>fit_intercept</strong> decide si se calcula el término independiente (True) o si se considera 0 (False).</li>\n",
    "          <li><strong>copy_X</strong> decide si se copian (True) o se sobreescriben las variables de entrada (False).</li>\n",
    "        </ul>\n",
    "        Por defecto fit_intercept y copy_X se consideran True, mientras que normalize se considera False.\n",
    "    </li>\n",
    "</ol>"
   ]
  },
  {
   "cell_type": "code",
   "execution_count": null,
   "id": "excellent-asian",
   "metadata": {},
   "outputs": [],
   "source": [
    "model = LinearRegression()"
   ]
  },
  {
   "cell_type": "markdown",
   "id": "south-metadata",
   "metadata": {},
   "source": [
    "<ol start=\"5\">\n",
    "    <li>Se entrena el modelo, lo cual determina los valores de los coeficientes que corresponden al mejor valor de la función costo\n",
    "    </li>\n",
    "</ol>"
   ]
  },
  {
   "cell_type": "code",
   "execution_count": null,
   "id": "agricultural-irrigation",
   "metadata": {},
   "outputs": [],
   "source": [
    "model.fit(Xtest, Y)"
   ]
  },
  {
   "cell_type": "markdown",
   "id": "unavailable-conditioning",
   "metadata": {},
   "source": [
    "<ol start=\"6\">\n",
    "    <li>Se pueden obtener los atributos del modelo:\n",
    "        <ul>\n",
    "            <li> Los valores de los coeficientes del modelo entrenado.\n",
    "            </li>\n",
    "        </ul>\n",
    "    </li>\n",
    "</ol>"
   ]
  },
  {
   "cell_type": "code",
   "execution_count": null,
   "id": "specific-proof",
   "metadata": {},
   "outputs": [],
   "source": [
    "print(model.intercept_,model.coef_)"
   ]
  },
  {
   "cell_type": "markdown",
   "id": "general-server",
   "metadata": {},
   "source": [
    "<ol start=\"7\">\n",
    "    <li>Se calculan los valores predichos de salida haciendo uso del modelo entrenado.\n",
    "    </li>\n",
    "</ol>"
   ]
  },
  {
   "cell_type": "code",
   "execution_count": null,
   "id": "greater-cambodia",
   "metadata": {},
   "outputs": [],
   "source": [
    "predictions = model.predict(Xtest)\n",
    "predictions"
   ]
  },
  {
   "cell_type": "code",
   "execution_count": null,
   "id": "retained-cement",
   "metadata": {},
   "outputs": [],
   "source": [
    "skl = widgets.Output()\n",
    "\n",
    "with skl:\n",
    "    fig_p, ax_p = plt.subplots(figsize = (6,4),tight_layout = True)\n",
    "    fig_p.suptitle(r'Hipótesis vs Valores de salida reales')\n",
    "    ax_p.plot(np.arange(0,len(Y)),predictions,'b+',markersize=8,label='Predicción con sklearn',alpha = 0.9)\n",
    "    ax_p.scatter(np.arange(0,len(Y)),Y,marker='o',label='Salida real',alpha = 0.9,facecolors='none', edgecolors='g')\n",
    "    lineh_skl, = ax_p.plot(np.arange(0,len(Y)),h_gd,'rx', markersize=8,label='Predicción',alpha = 0.9)\n",
    "    ax_p.grid(True)\n",
    "    ax_p.legend();\n",
    "\n",
    "def update_skl (change):\n",
    "    t_gd, J_gd = plot_J_gd(alpha_slider.value,X_gd,Y_gd)\n",
    "    h_gd = h_gd_value(t_gd,X_gd)\n",
    "    lineh_skl.set_ydata(h_gd)\n",
    "\n",
    "alpha_slider.observe(update_skl ,'value')\n",
    "\n",
    "widgets.VBox([skl,alpha_slider],layout = layout)\n",
    "\n"
   ]
  },
  {
   "cell_type": "markdown",
   "id": "unlikely-sharing",
   "metadata": {},
   "source": [
    "<ol start=\"7\">\n",
    "    <li>Se calcula un puntaje para el modelo, el mismo equivale al porcentaje de predicciones correctas realizadas por el modelo.\n",
    "    </li>\n",
    "</ol>"
   ]
  },
  {
   "cell_type": "code",
   "execution_count": null,
   "id": "helpful-macedonia",
   "metadata": {},
   "outputs": [],
   "source": [
    "model.score(Xtest,Y)"
   ]
  }
 ],
 "metadata": {
  "kernelspec": {
   "display_name": "Python 3 (ipykernel)",
   "language": "python",
   "name": "python3"
  },
  "language_info": {
   "codemirror_mode": {
    "name": "ipython",
    "version": 3
   },
   "file_extension": ".py",
   "mimetype": "text/x-python",
   "name": "python",
   "nbconvert_exporter": "python",
   "pygments_lexer": "ipython3",
   "version": "3.9.7"
  }
 },
 "nbformat": 4,
 "nbformat_minor": 5
}
