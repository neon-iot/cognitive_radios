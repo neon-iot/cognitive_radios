{
 "cells": [
  {
   "cell_type": "code",
   "execution_count": null,
   "id": "stopped-interstate",
   "metadata": {},
   "outputs": [],
   "source": [
    "import numpy as np\n",
    "import matplotlib.pyplot as plt\n",
    "\n",
    "import os\n",
    "os.environ['TF_XLA_FLAGS'] = '--tf_xla_enable_xla_devices'"
   ]
  },
  {
   "cell_type": "markdown",
   "id": "super-prairie",
   "metadata": {},
   "source": [
    "<h1>TENSOR-FLOW</h1>\n",
    "TensorFlow es una librería de software muy utilizada en machine learning."
   ]
  },
  {
   "cell_type": "code",
   "execution_count": null,
   "id": "proud-webmaster",
   "metadata": {},
   "outputs": [],
   "source": [
    "import tensorflow as tf"
   ]
  },
  {
   "cell_type": "markdown",
   "id": "macro-timber",
   "metadata": {},
   "source": [
    "<h2>TENSORES</h2> \n",
    "Un tensor es un arreglo n-dimensional de algún tipo de dato específico (cadenas, \n",
    "enteros, etc.). Puede ser considerado como una matriz generalizada, ya que puede\n",
    "ser:\n",
    "\n",
    "<ul>\n",
    "    <li>Una matriz de <strong>dimensión 0</strong>, como un escalar.</li>\n",
    "    <li>Una matriz de <strong>dimensión 1</strong>, como un vector.</li>\n",
    "    <li>Una matriz de <strong>dimensión 2</strong>, como una cuadrícula.</li>\n",
    "    <li>Una matriz de <strong>dimensión 3</strong>, como un arreglo de forma cúbica.</li>\n",
    "    <li>Una matriz de <strong>mayor dimensión</strong>, como una estructura más complicada de visualizar.</li>\n",
    "</ul>"
   ]
  },
  {
   "cell_type": "markdown",
   "id": "intimate-recording",
   "metadata": {},
   "source": [
    "<div  class=\"alert alert-block alert-info\">\n",
    "<b>Propiedades de un tensor:</b> \n",
    "    <ol>\n",
    "        <li>La forma (<b>shape</b>) de un tensor define su número de dimensiones y el tamaño de cada una de ellas.</li>\n",
    "        <li>El rango (<b>rank</b>) de un tensor brinda el número de dimensiones del mismo.</li>\n",
    "        <li>El tipo (<b>dtype</b>) de un tensor es el tipo de datos que lo compone. </li>\n",
    "    </ol>\n",
    "</div>"
   ]
  },
  {
   "cell_type": "markdown",
   "id": "otherwise-translator",
   "metadata": {},
   "source": [
    "<div  class=\"alert alert-block alert-success\">\n",
    "<b>Definición de un tensor:</b> \n",
    "    <dl> \n",
    "    <dt>CONSTANT: Almacena valores constantes.</dt>              \n",
    "        <dd>\n",
    "            <i>tf.constant (value, dtype = None, shape = None)</i>\n",
    "        </dd>\n",
    "    <br>\n",
    "    <dt>VARIABLE: Almacena valores que pueden ser modificados \n",
    "        aplicando operaciones específicas.</dt>\n",
    "        <dd>\n",
    "            <i>tf.Variable (initial_value = None, dtype = None, shape = None)</i>\n",
    "        </dd>\n",
    "    </dl>\n",
    "    <ul>\n",
    "        <li><b>dtype</b>: El tipo de elementos que posee el tensor (tf.float32, tf.float64, \n",
    "            tf.string, tf.int16, tf.bool). Si no es especificado se infiere del tipo del valor \n",
    "            inicial asignado.</li>\n",
    "        <li><b>shape</b>: Dimensiones del tensor resultante. Si no es especificado se \n",
    "            infiere de la forma del valor inicial asignado. En el caso de la construcción \n",
    "            de variables, es posible crear variables con una forma no completamente definida \n",
    "            por la forma de su valor inicial utilizando: <i>shape = tf.TensorShape(None)</i></li>\n",
    "    </ul>\n",
    "</div>"
   ]
  },
  {
   "cell_type": "code",
   "execution_count": null,
   "id": "secondary-corner",
   "metadata": {},
   "outputs": [],
   "source": [
    "# TENSORES DE DIMENSIÓN 0 : ESCALARES Y CADENAS\n",
    "sport = tf.constant(\"Tennis\", tf.string)\n",
    "number = tf.constant(1.41421356237, tf.float64)\n",
    "\n",
    "print(f\"'sport' es un tensor de dimensión {tf.rank(sport)}, \\\n",
    "con elementos de tipo {sports.dtype}.\")\n",
    "\n",
    "print(f\"'number' es un tensor de dimensión {tf.rank(number)}, \\\n",
    "con elementos de tipo {number.dtype}.\")"
   ]
  },
  {
   "cell_type": "code",
   "execution_count": null,
   "id": "noted-default",
   "metadata": {},
   "outputs": [],
   "source": [
    "# TENSORES DE DIMENSIÓN 1 : VECTORES Y LISTAS\n",
    "sports = tf.constant([\"Tennis\", \"Basketball\"], tf.string)\n",
    "numbers = tf.constant([3.141592, 1.414213, 2.71821], tf.float64)\n",
    "\n",
    "print(f\"'sports' es un tensor de dimensión {tf.rank(sports)}, \\\n",
    "con forma: {tf.shape(sports)}.\")\n",
    "\n",
    "print(f\"'numbers' es un tensor de dimensión {tf.rank(numbers)}, \\\n",
    "con forma: {tf.shape(numbers)}.\")"
   ]
  },
  {
   "cell_type": "code",
   "execution_count": null,
   "id": "ruled-development",
   "metadata": {},
   "outputs": [],
   "source": [
    "# TENSORES DE DIMENSIÓN 2 : MATRICES\n",
    "matrix = tf.constant([1, 2, 3, 4, 5, 6], shape = [2, 3],  dtype = tf.float64)\n",
    "\n",
    "print(f\"'matrix' es un tensor de dimensión {tf.rank(matrix)}, \\\n",
    "con forma: {tf.shape(matrix)}\")\n",
    "\n",
    "print(matrix.numpy())"
   ]
  },
  {
   "cell_type": "markdown",
   "id": "mexican-night",
   "metadata": {},
   "source": [
    "<div  class=\"alert alert-block alert-success\">\n",
    "<b>Otras definiciones de tensores:</b> \n",
    "    <dl> \n",
    "    <dt>Con todos los elementos seteados a cero.</dt>              \n",
    "        <dd>\n",
    "            <i>tf.zeros (shape, dtype = tf.dtypes.float32)</i>\n",
    "        </dd>\n",
    "    <br>\n",
    "    <dt>Con todos los elementos seteados a 1.</dt>\n",
    "        <dd>\n",
    "            <i>tf.ones (shape, dtype = tf.dtypes.float32)</i>\n",
    "        </dd>\n",
    "    </dl>\n",
    "</div>"
   ]
  },
  {
   "cell_type": "code",
   "execution_count": null,
   "id": "subject-remove",
   "metadata": {},
   "outputs": [],
   "source": [
    "# TENSORES DE DIMENSIÓN 4 \n",
    "images = tf.zeros([10, 256, 256, 3], tf.int32)\n",
    "\n",
    "print(f\"'images' es un tensor de dimensión {tf.rank(images)}, con forma: {tf.shape(images)}\")"
   ]
  },
  {
   "cell_type": "markdown",
   "id": "sudden-superior",
   "metadata": {},
   "source": [
    "<div  class=\"alert alert-block alert-warning\">\n",
    "<b>Modificar el tipo de datos:</b> \n",
    "    <dd>\n",
    "        <i>tf.cast(x, dtype)</i>\n",
    "    </dd>\n",
    "</div>"
   ]
  },
  {
   "cell_type": "code",
   "execution_count": null,
   "id": "rocky-teaching",
   "metadata": {},
   "outputs": [],
   "source": [
    "numbers = tf.constant([3.141592, 1.414213, 2.71821], tf.float64)\n",
    "print(f\"'numbers' posee elementos de tipo: {numbers.dtype}\")\n",
    "\n",
    "numbers = tf.cast(numbers, dtype = tf.float32)\n",
    "print(f\"'numbers' posee elementos de tipo: {numbers.dtype}\")"
   ]
  },
  {
   "cell_type": "markdown",
   "id": "molecular-motor",
   "metadata": {},
   "source": [
    "<h2>SLICING DE TENSORES</h2>\n",
    "Es posible acceder a subtensores dentro de un tensor de mayores dimensiones:"
   ]
  },
  {
   "cell_type": "code",
   "execution_count": null,
   "id": "economic-denial",
   "metadata": {},
   "outputs": [],
   "source": [
    "row_vector = matrix[1]\n",
    "column_vector = matrix[:,2]\n",
    "scalar = matrix[1, 2]\n",
    "\n",
    "print(f\"\"\"El tensor 'matrix' es: \n",
    "{matrix.numpy()}\"\"\")\n",
    "print(f\"'row_vector': {row_vector}\")\n",
    "print(f\"'column_vector': {column_vector}\")\n",
    "print(f\"'scalar': {scalar}\")"
   ]
  },
  {
   "cell_type": "markdown",
   "id": "cordless-offering",
   "metadata": {},
   "source": [
    "<h2>CÁLCULOS CON TENSORES</h2>\n",
    "Los cálculos realizados con tensores dan como <strong>resultado otro \n",
    "tensor</strong> cuyo valor está definido por el valor resultante de la operación.\n",
    "\n",
    "<table width=\"300\">\n",
    "  <tr>\n",
    "    <th colspan=\"2\">OPERACIONES BÁSICAS</th>\n",
    "  </tr>\n",
    "  <tr>\n",
    "    <th style=\"text-align:center\">Adición</th>\n",
    "    <td style=\"text-align:center\">tf.add (x, y)</td>\n",
    "  </tr>\n",
    "  <tr>\n",
    "      <th style=\"text-align:center\">Sustracción</th>\n",
    "      <td style=\"text-align:center\">tf.subtract (x, y)</td>\n",
    "  </tr>\n",
    "  <tr>\n",
    "      <th style=\"text-align:center\">Multiplicación</th>\n",
    "      <td style=\"text-align:center\">tf.multiply (x, y)</td>\n",
    "  </tr>\n",
    "  <tr>\n",
    "    <th style=\"text-align:center\">División</th>\n",
    "    <td style=\"text-align:center\">tf.divide (x, y)</td>\n",
    "  </tr>\n",
    "  <tr>\n",
    "      <th style=\"text-align:center\">Potencia</th>\n",
    "      <td style=\"text-align:center\">tf.pow (x, y)</td>\n",
    "  </tr>\n",
    "  <tr>\n",
    "      <th style=\"text-align:center\">Raiz cuadrada</th>\n",
    "      <td style=\"text-align:center\">tf.sqrt (x)</td>\n",
    "  </tr>\n",
    "   <tr>\n",
    "      <th style=\"text-align:center\">Exponencial</th>\n",
    "      <td style=\"text-align:center\">tf.exp (x)</td>\n",
    "  </tr>\n",
    "</table>"
   ]
  },
  {
   "cell_type": "code",
   "execution_count": null,
   "id": "incomplete-payroll",
   "metadata": {},
   "outputs": [],
   "source": [
    "a = tf.constant(2)\n",
    "b = tf.constant(3)\n",
    "\n",
    "# ADICIÓN\n",
    "c = tf.add(a,b)\n",
    "print(f'{a} + {b} = {c}')\n",
    "\n",
    "# SUSTRACCIÓN\n",
    "d = tf.subtract(a,b)\n",
    "print(f'{a} - {b} = {d}')\n",
    "\n",
    "# MULTIPLICACIÓN\n",
    "e = tf.multiply(a,b)\n",
    "print(f'{a} * {b} = {e}')\n",
    "\n",
    "print(e)"
   ]
  },
  {
   "cell_type": "markdown",
   "id": "martial-nashville",
   "metadata": {},
   "source": [
    "<div  class=\"alert alert-block alert-danger\">\n",
    "<b>Importante:</b> \n",
    "    <ul>\n",
    "        <li>Ambos tensores que se utilizan para una operación deben tener la misma forma.</li>\n",
    "        <li>En el caso de que uno de los tensores sea de dimensión cero, el otro puede tener \n",
    "            una dimensión diferente.</li>\n",
    "        <li>tf.sqrt y tf.exp no permiten su aplicación en tensores de tipo int.</li>\n",
    "    </ul>\n",
    "</div>"
   ]
  }
 ],
 "metadata": {
  "kernelspec": {
   "display_name": "Python 3 (ipykernel)",
   "language": "python",
   "name": "python3"
  },
  "language_info": {
   "codemirror_mode": {
    "name": "ipython",
    "version": 3
   },
   "file_extension": ".py",
   "mimetype": "text/x-python",
   "name": "python",
   "nbconvert_exporter": "python",
   "pygments_lexer": "ipython3",
   "version": "3.9.7"
  },
  "toc-autonumbering": true
 },
 "nbformat": 4,
 "nbformat_minor": 5
}
