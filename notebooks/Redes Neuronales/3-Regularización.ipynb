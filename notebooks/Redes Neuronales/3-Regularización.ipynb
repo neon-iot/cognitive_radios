{
 "cells": [
  {
   "cell_type": "code",
   "execution_count": 1,
   "id": "located-exception",
   "metadata": {},
   "outputs": [],
   "source": [
    "import numpy as np\n",
    "import matplotlib.pyplot as plt\n",
    "import seaborn as sns\n",
    "import pandas as pd\n",
    "import ipywidgets as widgets\n",
    "%matplotlib widget"
   ]
  },
  {
   "cell_type": "markdown",
   "id": "identical-annotation",
   "metadata": {},
   "source": [
    "<h1>REGULARIZACIÓN EN REDES NEURONALES</h1>\n",
    "Existen distintos métodos de regularización que pueden ser aplicados \n",
    "para evitar el overfitting:\n",
    "\n",
    "<h2>PENALIZACIÓN EN LA FUNCIÓN DE COSTO</h2>\n",
    "La función de costos para redes neuronales regularizadas es:\n",
    "\n",
    "$$\n",
    "    J(\\Theta)= \\frac{-1}{m}\\sum_{i=1}^m\\sum_{k=1}^K\\left[y_k^i\\log\\left((h_\\theta(x^i))_k\\right)+(1-y_k^i)\\log\\left(1-(h_\\theta(x^i))_k\\right)\\right] + \\frac{\\lambda}{2m}\\sum_{l=1}^{L-1}\\sum_{i=1}^{s_l}\\sum_{j=1}^{s_{l+1}}\\left(\\Theta_{j,i}^l\\right)^2\n",
    "$$\n",
    "\n",
    "<ul>\n",
    "    <li> $L$: número total de capas en la red.</li>\n",
    "    <li> $s_l$: número de nodos en la capa l (sin contar el bias node).</li>\n",
    "    <li> $K$: número de nodos/clases de salida.</li>\n",
    "    <li> $h_\\theta(x)_k$: hipótesis resultante de la salida k.</li>\n",
    "</ul>\n",
    "\n",
    "<ol>\n",
    "    <li>La sumatoria adicional en el primer término itera a través de todos los nodos de salida.</li>\n",
    "    <li>En el término de regularización se deben tener en cuenta las múltiples matrices $\\Theta$. El número\n",
    "        de columnas en la matriz $\\Theta$ actual es igual al número de nodos en la capa actual (incluyendo el\n",
    "        bias node). Mientras que el número de filas es igual al número de nodos de la siguiente capa (excluyendo \n",
    "        el bias node).</li>\n",
    "</ol>\n",
    "\n",
    "<h2>DROPOUT</h2>\n",
    "\n",
    "<center>\n",
    "    <img src=\"figures/dropout.gif\" style=\"width: 450px;\">\n",
    "</center>\n",
    "\n",
    "<h2>PARADA TEMPRANA</h2>\n",
    "\n",
    "<h2>OPTIMIZADORES</h2>\n",
    "\n"
   ]
  },
  {
   "cell_type": "code",
   "execution_count": null,
   "id": "72921d36-eb18-4f7a-ae09-7d7e609b5189",
   "metadata": {},
   "outputs": [],
   "source": []
  }
 ],
 "metadata": {
  "kernelspec": {
   "display_name": "Python 3 (ipykernel)",
   "language": "python",
   "name": "python3"
  },
  "language_info": {
   "codemirror_mode": {
    "name": "ipython",
    "version": 3
   },
   "file_extension": ".py",
   "mimetype": "text/x-python",
   "name": "python",
   "nbconvert_exporter": "python",
   "pygments_lexer": "ipython3",
   "version": "3.9.7"
  }
 },
 "nbformat": 4,
 "nbformat_minor": 5
}
