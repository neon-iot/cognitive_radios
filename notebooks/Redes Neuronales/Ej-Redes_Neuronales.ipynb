{
 "cells": [
  {
   "cell_type": "code",
   "execution_count": null,
   "id": "surprising-language",
   "metadata": {},
   "outputs": [],
   "source": [
    "import numpy as np\n",
    "import matplotlib.pyplot as plt\n",
    "import seaborn as sns\n",
    "import pandas as pd\n",
    "import ipywidgets as widgets\n",
    "%matplotlib widget"
   ]
  },
  {
   "cell_type": "markdown",
   "id": "de42abb0-6d32-495c-889a-44260aa30d14",
   "metadata": {},
   "source": [
    "<h1>RED NEURONAL</h1>\n",
    "<h2>Aplicación de gradiente descendente en una red de una única capa oculta.</h2>\n",
    "<ul>\n",
    "    <li>Diferencias en la curva de error con diferentes tasas de aprendizaje.</li>\n",
    "    <li>Diferencias en la curva de error con diferente número de neuronas en la capa oculta.</li>\n",
    "    <li>Diferencias en la curva de error con inicialización de las matrices $\\Theta$ en ceros.</li>\n",
    "</ul>"
   ]
  },
  {
   "cell_type": "code",
   "execution_count": null,
   "id": "dressed-struggle",
   "metadata": {},
   "outputs": [],
   "source": [
    "x1 = np.random.randint(2, size = 40).reshape(-1,1)\n",
    "x2 = np.random.randint(2, size = 40).reshape(-1,1)\n",
    "\n",
    "Y = np.logical_not(np.logical_xor(x1,x2))"
   ]
  },
  {
   "cell_type": "code",
   "execution_count": null,
   "id": "sapphire-interference",
   "metadata": {},
   "outputs": [],
   "source": [
    "X_noBias =  np.hstack((x1,x2))"
   ]
  },
  {
   "cell_type": "code",
   "execution_count": null,
   "id": "supported-french",
   "metadata": {},
   "outputs": [],
   "source": [
    "X = np.hstack((np.ones(x1.shape[0]).reshape(-1,1), X_noBias))\n",
    "m = X.shape[0]"
   ]
  },
  {
   "cell_type": "code",
   "execution_count": null,
   "id": "innocent-incentive",
   "metadata": {},
   "outputs": [],
   "source": [
    "#numero neuronas en las 2da capa sin contar el bias unit\n",
    "neurons_sel = widgets.Dropdown(\n",
    "    options = [1,2,3,4,5],\n",
    "    value = 2,\n",
    "    description ='Neurons:',\n",
    "    layout = {'width': 'max-content'}\n",
    ")"
   ]
  },
  {
   "cell_type": "code",
   "execution_count": null,
   "id": "indoor-singing",
   "metadata": {},
   "outputs": [],
   "source": [
    "def costFunction(X, Y, theta1, theta2, l=0):\n",
    "    a1 = X\n",
    "\n",
    "    z2 = np.dot(a1, theta1)\n",
    "    a2 = 1 / (1 + np.exp(-z2))\n",
    "    a2 = np.insert(a2, 0, 1, axis=1)\n",
    "\n",
    "    z3 = np.dot(a2, theta2)\n",
    "    a3 = 1 / (1 + np.exp(-z3))\n",
    "\n",
    "    cost = np.dot(Y.T, np.log(a3)) + np.dot((1 - Y).T, np.log(1 - a3))\n",
    "\n",
    "    reg = l / (2 * m) * (np.sum(np.square(theta1[1:,:])) + np.sum(np.square(theta2[1:,:])))\n",
    "\n",
    "    J = -1 / m * cost + reg\n",
    "\n",
    "    return J"
   ]
  },
  {
   "cell_type": "code",
   "execution_count": null,
   "id": "nutritional-cooler",
   "metadata": {},
   "outputs": [],
   "source": [
    "def backpropagation(X, Y, theta1, theta2, l=0): \n",
    "\n",
    "    Delta1 = np.zeros(theta1.shape)\n",
    "    Delta2 = np.zeros(theta2.shape)\n",
    "\n",
    "    for i in range(0,m):\n",
    "        a1 = X[i,:].reshape(1,-1)\n",
    "\n",
    "        z2 = np.dot(a1, theta1)\n",
    "\n",
    "        a2 = 1 / (1 + np.exp(-z2))\n",
    "\n",
    "        a2 = np.insert(a2, 0, 1, axis=1)\n",
    "\n",
    "        z3 = np.dot(a2, theta2)\n",
    "\n",
    "        a3 = 1 / (1 + np.exp(-z3))\n",
    "\n",
    "        d3 = a3 - Y[i]\n",
    "\n",
    "        d2 = (np.dot(theta2[1:,:], d3)) * a2[:,1:].T * (1 - a2[:,1:].T)\n",
    "\n",
    "        Delta2 += np.dot(a2.T, d3)\n",
    "        Delta1 += np.dot(a1.T, d2.T)\n",
    "\n",
    "    theta1_grad = 1 / m * Delta1\n",
    "    theta2_grad = 1 / m * Delta2\n",
    "\n",
    "    theta1_grad[:,1:] += (l / m * theta1[:,1:]);\n",
    "    theta2_grad[:,1:] += (l / m * theta2[:,1:]);\n",
    "    \n",
    "    return theta1_grad, theta2_grad"
   ]
  },
  {
   "cell_type": "code",
   "execution_count": null,
   "id": "handy-istanbul",
   "metadata": {},
   "outputs": [],
   "source": [
    "a_slider = widgets.FloatSlider(min = 0, max = 1, step = 0.001, value = 0.5, description = r'$\\alpha$')"
   ]
  },
  {
   "cell_type": "code",
   "execution_count": null,
   "id": "scheduled-robertson",
   "metadata": {},
   "outputs": [],
   "source": [
    "def J_function(X, Y, theta1, theta2, alpha):\n",
    "    J = np.array([])\n",
    "    \n",
    "    for j in range(0,1000):\n",
    "        J = np.append(J, costFunction(X, Y, theta1, theta2))\n",
    "        theta1_grad, theta2_grad = backpropagation(X, Y, theta1, theta2)\n",
    "        theta1 = theta1 - alpha * theta1_grad\n",
    "        theta2 = theta2 - alpha * theta2_grad\n",
    "    \n",
    "    return J, theta1, theta2"
   ]
  },
  {
   "cell_type": "code",
   "execution_count": null,
   "id": "likely-telling",
   "metadata": {},
   "outputs": [],
   "source": [
    "plot_J = widgets.Output()\n",
    "\n",
    "with plot_J:\n",
    "    fig_J, ax_J = plt.subplots(figsize = (6,4),tight_layout = True)\n",
    "    fig_J.suptitle(r'Variación función costo $J(\\theta)$ con gradiente descendente')\n",
    "    \n",
    "    theta1 = np.random.rand(X.shape[1],neurons_sel.value)\n",
    "    theta2 = np.random.rand(neurons_sel.value+1,1)\n",
    "    J, theta1, theta2 = J_function(X,Y,theta1,theta2,a_slider.value)\n",
    "        \n",
    "    lineJ, = ax_J.plot(J)\n",
    "    ax_J.grid(True);"
   ]
  },
  {
   "cell_type": "code",
   "execution_count": null,
   "id": "automotive-catalyst",
   "metadata": {},
   "outputs": [],
   "source": [
    "def update_plotJ(change):\n",
    "    theta1 = np.random.rand(X.shape[1], neurons_sel.value)\n",
    "    theta2 = np.random.rand(neurons_sel.value+1,1)\n",
    "    J, theta1, theta2 = J_function(X, Y, theta1, theta2, a_slider.value)\n",
    "    lineJ.set_ydata(J)\n",
    "\n",
    "def updateWrong_plotJ(change):\n",
    "    theta1 = np.zeros((X.shape[1], neurons_sel.value))\n",
    "    theta2 = np.zeros((neurons_sel.value+1,1))\n",
    "    J, theta1, theta2 = J_function(X, Y, theta1, theta2, a_slider.value)\n",
    "    lineJ.set_ydata(J)\n",
    "\n",
    "    \n",
    "b1 = widgets.Button(description = 'Nuevo inicio', button_style = 'warning')\n",
    "b1.on_click(update_plotJ)\n",
    "\n",
    "b2 = widgets.Button(description = 'Inicio en 0', button_style = 'danger')\n",
    "b2.on_click(updateWrong_plotJ)\n",
    "\n",
    "layout = widgets.Layout(align_items = 'center')\n",
    "    \n",
    "a_slider.observe(update_plotJ,'value')\n",
    "neurons_sel.observe(update_plotJ,'value')\n",
    "\n",
    "widgets.VBox([plot_J, a_slider, neurons_sel, b2, b1], layout = layout)"
   ]
  },
  {
   "cell_type": "markdown",
   "id": "located-separation",
   "metadata": {},
   "source": [
    "<div class=\"alert alert-block alert-danger\">\n",
    "<b>Conclusiones:</b> \n",
    "    <ol>\n",
    "        <li>No es recomendable inicializar todos los valores de las matrices $\\Theta$ \n",
    "            como 0. Ya que al realizar la propagación hacia adelante y hacia atrás, \n",
    "            cada nodo realiza el mismo cálculo y cada valor de la matriz $\\Theta$ \n",
    "            será actualizado al mismo valor.  </li>\n",
    "         <li>Una red con sus matrices $\\Theta$ puede no aprender nada, o realizarlo \n",
    "             muy lentamente. </li>\n",
    "        <li>Los valores de las matrices $\\Theta$ deben ser inicializados de manera \n",
    "            aleatoria.</li>\n",
    "    </ol>\n",
    "</div>"
   ]
  },
  {
   "cell_type": "markdown",
   "id": "armed-league",
   "metadata": {},
   "source": [
    "<div  class=\"alert alert-block alert-warning\">\n",
    "<b>Conclusiones:</b> \n",
    "    <ol>\n",
    "        <li>Debido a la aleatoriedad en la selección de los valores de las \n",
    "            matrices $\\Theta$ y a que la función $J(\\Theta)$ no es convexa, es \n",
    "            muy probable obtener mínimos locales al utilizar gradiente descendente \n",
    "            y no el mínimo global de la función costo.</li>\n",
    "    </ol>\n",
    "</div>"
   ]
  },
  {
   "cell_type": "markdown",
   "id": "1b86cbdf-3be0-45bb-ab92-165dced38f3f",
   "metadata": {},
   "source": [
    "<h2>Mejora del resultado obtenido al aplicar gradiente descendente.</h2>\n",
    "<ul>\n",
    "    <li>Realización de múltiples entrenamientos con distinta inicialización \n",
    "    de los parámetros $\\Theta$.</li>\n",
    "</ul>"
   ]
  },
  {
   "cell_type": "code",
   "execution_count": null,
   "id": "breathing-psychology",
   "metadata": {},
   "outputs": [],
   "source": [
    "a_slider_h = widgets.FloatSlider(min = 0, max = 1, step = 0.001, value = 0.5, description = r'$\\alpha$')\n",
    "\n",
    "neurons_h = widgets.Dropdown(\n",
    "    options = [1,2,3,4,5,6],\n",
    "    value = 2,\n",
    "    description = 'Neurons:',\n",
    "    layout = {'width': 'max-content'}\n",
    ")\n",
    "\n",
    "#Numero de veces que se inicializan los theta para buscar el mejor caso\n",
    "tests = widgets.Dropdown(\n",
    "    options = [i for i in range(1,11)],\n",
    "    value = 10,\n",
    "    description = 'Trainings:',\n",
    "    layout = {'width': 'max-content'}\n",
    ")\n"
   ]
  },
  {
   "cell_type": "code",
   "execution_count": null,
   "id": "unlikely-plymouth",
   "metadata": {},
   "outputs": [],
   "source": [
    "def find_bestJ(neurons, alpha):\n",
    "    best_J = 100\n",
    "    Jvalues = np.array([])\n",
    "    \n",
    "    for i in range(tests.value):\n",
    "        theta1 = np.random.rand(X.shape[1],neurons)\n",
    "        theta2 = np.random.rand(neurons+1, 1)\n",
    "        J, theta1,theta2 = J_function(X, Y, theta1, theta2, alpha)\n",
    "        Jvalues = np.append(Jvalues, J[-1])\n",
    "        if J[-1] < best_J:\n",
    "            best_J = J[-1]\n",
    "            best_t1 = theta1\n",
    "            best_t2 = theta2\n",
    "    \n",
    "    return best_J, best_t1, best_t2, Jvalues"
   ]
  },
  {
   "cell_type": "code",
   "execution_count": null,
   "id": "female-breast",
   "metadata": {},
   "outputs": [],
   "source": [
    "best_J, best_t1, best_t2, Jvalues = find_bestJ(neurons_h.value, a_slider_h.value)\n",
    "out_J = widgets.HTMLMath(value = fr'El valor de $J(\\theta)$ es: {best_J:.5f}')\n",
    "out_Jextra = widgets.HTMLMath(value = fr'con una media de {Jvalues.mean():.5f} y varianza {Jvalues.var():.5f}')\n"
   ]
  },
  {
   "cell_type": "code",
   "execution_count": null,
   "id": "marine-winter",
   "metadata": {},
   "outputs": [],
   "source": [
    "def predictor(theta1, theta2):\n",
    "    a1 = X\n",
    "    \n",
    "    z2 = np.dot(a1,theta1)\n",
    "    a2 = 1/(1 + np.exp(-z2))\n",
    "    a2 = np.insert(a2, 0, 1, axis=1)\n",
    "\n",
    "    z3 = np.dot(a2,theta2)\n",
    "    a3 = 1/(1+np.exp(-z3))\n",
    "    \n",
    "    h = (a3 > 0.5)*1\n",
    "    \n",
    "    return h"
   ]
  },
  {
   "cell_type": "code",
   "execution_count": null,
   "id": "applicable-large",
   "metadata": {},
   "outputs": [],
   "source": [
    "plot_h = widgets.Output()\n",
    "\n",
    "with plot_h:\n",
    "    fig_h, ax_h = plt.subplots(figsize = (8,4),tight_layout = True)\n",
    "    fig_h.suptitle(r'Hipótesis vs Valores de salida reales')\n",
    "    h = predictor(best_t1,best_t2)\n",
    "    lineh, = ax_h.plot(np.arange(0,len(Y)), h,'rx', label='Valor predicho')\n",
    "    ax_h.scatter(np.arange(0,len(Y)),Y,marker='o',edgecolors = 'b',facecolors = 'none', s=80, label='Valor real')\n",
    "    ax_h.grid(True)\n",
    "    ax_h.legend();\n"
   ]
  },
  {
   "cell_type": "code",
   "execution_count": null,
   "id": "armed-rally",
   "metadata": {},
   "outputs": [],
   "source": [
    "def update_ploth(change):\n",
    "    best_J, best_t1, best_t2, Jvalues = find_bestJ(neurons_h.value, a_slider_h.value)\n",
    "    h = predictor(best_t1, best_t2)\n",
    "    lineh.set_ydata(h)\n",
    "    out_J.value = fr'El valor de $J(\\theta)$ es: {best_J:.5f}'\n",
    "    out_Jextra.value = fr'con una media de {Jvalues.mean():.5f} y varianza {Jvalues.var():.5f}'\n",
    "    \n",
    "b1_h = widgets.Button(description = 'Nuevo inicio',button_style = 'success')\n",
    "b1_h.on_click(update_ploth)\n",
    "\n",
    "layout = widgets.Layout(align_items = 'center')\n",
    "    \n",
    "a_slider_h.observe(update_ploth,'value')\n",
    "neurons_h.observe(update_ploth,'value')\n",
    "tests.observe(update_ploth,'value')\n",
    "\n",
    "widgets.VBox([plot_h, a_slider_h, neurons_h,tests,out_J, out_Jextra, b1_h],layout = layout)\n"
   ]
  },
  {
   "cell_type": "markdown",
   "id": "consistent-embassy",
   "metadata": {},
   "source": [
    "<div  class=\"alert alert-block alert-success\">\n",
    "<b>Conclusiones:</b> \n",
    "    <ol>\n",
    "        <li>Una forma de mejorar la obtención de los valores  \n",
    "            de las matrices $\\Theta$ es realizando un mayor número de \n",
    "            entrenamientos a partir de distintas matrices $\\Theta$ de\n",
    "            valores aleatorios y luego seleccionar aquellas que permitan \n",
    "            minimizar la función costo $J(\\Theta)$.</li>\n",
    "    </ol>\n",
    "</div>"
   ]
  },
  {
   "cell_type": "markdown",
   "id": "e595d4aa-3509-4a19-84f4-037bcd9d39a3",
   "metadata": {},
   "source": [
    "<ul>\n",
    "     <li>Variación del valor de la función costo luego de 1000\n",
    "      épocas de entrenamiento, para redes con distinto\n",
    "      número de neuronas en la caa .</li>\n",
    "</ul>"
   ]
  },
  {
   "cell_type": "code",
   "execution_count": null,
   "id": "designing-hanging",
   "metadata": {},
   "outputs": [],
   "source": [
    "allJ = np.zeros((10,6))\n",
    "\n",
    "for neurons in range(1,7):\n",
    "     best_J, best_t1, best_t2, Jvalues = find_bestJ(neurons, 0.5)\n",
    "     allJ[:,neurons-1] = Jvalues\n",
    " \n",
    "df_allJ = pd.DataFrame(allJ)\n",
    "df_allJ.columns = ['1','2','3','4','5','6']\n",
    "\n",
    "sns.catplot(data = df_allJ, kind = \"box\").set(xlabel = 'N° de neuronas', \\\n",
    "                                            ylabel = f'$J(\\Theta$)')\n",
    "sns.set_style(\"whitegrid\")\n",
    "plt.title('Variación de la función costo')\n",
    "plt.tight_layout()\n"
   ]
  },
  {
   "cell_type": "markdown",
   "id": "f9e8e3e1-22c8-4f35-8d49-eaa4fe7d52d7",
   "metadata": {},
   "source": [
    "<div  class=\"alert alert-block alert-success\">\n",
    "<b>Conclusiones:</b> \n",
    "    <ol>\n",
    "        <li>Al aumentar el número de neuronas en la capa oculta el \n",
    "            resultado tiende a mejorar, aunque esto implica un mayor \n",
    "            costo computacional.</li>\n",
    "    </ol>\n",
    "</div>"
   ]
  },
  {
   "cell_type": "markdown",
   "id": "incident-mandate",
   "metadata": {},
   "source": [
    "<h2>Implementación con librerias especializadas</h2>\n",
    "\n",
    "<ol>\n",
    "    <li>Se utiliza el paquete <strong>scikit-learn</strong>\n",
    "    </li>\n",
    "</ol>"
   ]
  },
  {
   "cell_type": "code",
   "execution_count": null,
   "id": "conventional-booking",
   "metadata": {},
   "outputs": [],
   "source": [
    "from sklearn.neural_network import MLPClassifier "
   ]
  },
  {
   "cell_type": "markdown",
   "id": "turkish-complement",
   "metadata": {},
   "source": [
    "<ol start=\"2\">\n",
    "    <li>Se crea una instancia de la clase <strong>MLPClassifier</strong>, la cual \n",
    "        tiene muchos parámetros opcionales:\n",
    "        <ul>\n",
    "          <li><strong>hidden_layer_sizes</strong> tupla conformada por tantos \n",
    "              elementos como capas ocultas posea la red, el elemento i representa \n",
    "              el número de neuronas de la capa oculta i (sin considerar los nodos\n",
    "              de tipo bias.</li>\n",
    "          <li><strong>activation</strong> función de activación utilizada: 'identity', \n",
    "              'logistic', 'tanh', 'relu'.</li>\n",
    "          <li><strong>solver</strong> método de selección de los pesos: 'lbfgs', \n",
    "              'sgd', 'adam'.</li>\n",
    "          <li><strong>alpha</strong> coeficiente de penalidad de regularización.</li>\n",
    "          <li><strong>max_iter</strong> número máximo de iteraciones.</li>\n",
    "          <li><strong>learning_rate</strong> tipo de tasa de aprendizaje utilizado en \n",
    "              el gradiente descendente: 'constant', 'invscaling', adaptive'.</li>\n",
    "          <li><strong>learning_rate_init</strong> tasa de aprendizaje inicial utilizada.</li>\n",
    "          <li><strong>n_iter_no_change</strong> número máximo de iteraciones que no \n",
    "              presenten una mejora determinada.</li>\n",
    "        </ul>\n",
    "        Los parámetros en este caso se seleccionan para simular \n",
    "        la misma situación analizada con gradiente descendente\n",
    "        previamente.\n",
    "    </li>\n",
    "</ol>"
   ]
  },
  {
   "cell_type": "code",
   "execution_count": null,
   "id": "occasional-colonial",
   "metadata": {},
   "outputs": [],
   "source": [
    "clf = MLPClassifier(solver='sgd', activation = 'logistic', alpha=1e-5, \\\n",
    "                    hidden_layer_sizes=(2,), max_iter = 1000,\\\n",
    "                    learning_rate = 'constant', learning_rate_init = 0.5,\\\n",
    "                    n_iter_no_change = 600)\n"
   ]
  },
  {
   "cell_type": "markdown",
   "id": "bright-posting",
   "metadata": {},
   "source": [
    "<ol start=\"3\">\n",
    "    <li>Los arreglos de entrada y salida deben ser <strong>NumPy arrays</strong>.\n",
    "        <ul>\n",
    "            <li>El arreglo de <strong>X</strong> debe tener <strong>2 dimensiones\n",
    "                </strong>: cada columna debe corresponder con una variable de \n",
    "                entrada y cada fila con una observación particular.</li>\n",
    "            <li>El arreglo de <strong>Y</strong> debe tener <strong>1 dimensión\n",
    "                </strong>, siendo cada elemento la salida de cada una de las \n",
    "                observaciones</li>\n",
    "        </ul>\n",
    "    </li>\n",
    "</ol>"
   ]
  },
  {
   "cell_type": "code",
   "execution_count": null,
   "id": "accessory-rogers",
   "metadata": {},
   "outputs": [],
   "source": [
    "X_noBias.shape"
   ]
  },
  {
   "cell_type": "code",
   "execution_count": null,
   "id": "hollywood-wedding",
   "metadata": {},
   "outputs": [],
   "source": [
    "np.ravel(Y)"
   ]
  },
  {
   "cell_type": "markdown",
   "id": "international-prior",
   "metadata": {},
   "source": [
    "<ol start=\"4\">\n",
    "    <li>Se entrena el modelo, lo cual determina los valores de los coeficientes que corresponden al mejor valor de la función costo\n",
    "    </li>\n",
    "</ol>"
   ]
  },
  {
   "cell_type": "code",
   "execution_count": null,
   "id": "uniform-science",
   "metadata": {},
   "outputs": [],
   "source": [
    "clf.fit(X_noBias, np.ravel(Y))"
   ]
  },
  {
   "cell_type": "markdown",
   "id": "specific-riding",
   "metadata": {},
   "source": [
    "<ol start=\"5\">\n",
    "    <li>Se pueden obtener los atributos del modelo:\n",
    "        <ul>\n",
    "            <li>Los valores de las matrices $\\Theta$\n",
    "                del modelo entrenado: el elemento i de \n",
    "                la lista representa la matriz de pesos \n",
    "                correspondiente a la capa i.\n",
    "            </li>\n",
    "        </ul>\n",
    "    </li>\n",
    "</ol>"
   ]
  },
  {
   "cell_type": "code",
   "execution_count": null,
   "id": "unable-suggestion",
   "metadata": {},
   "outputs": [],
   "source": [
    "clf.intercepts_"
   ]
  },
  {
   "cell_type": "markdown",
   "id": "destroyed-album",
   "metadata": {},
   "source": [
    "<ol style=\"list-style-type:none;\">\n",
    "    <li>\n",
    "        <ul>\n",
    "            <li>Los valores de los vectores bias del modelo entrenado: el elemento i de la lista representa el vetor bias correspondiente a la capa i+1.\n",
    "            </li>\n",
    "        </ul>\n",
    "    </li>\n",
    "</ol>"
   ]
  },
  {
   "cell_type": "code",
   "execution_count": null,
   "id": "infrared-tomorrow",
   "metadata": {},
   "outputs": [],
   "source": [
    "clf.coefs_"
   ]
  },
  {
   "cell_type": "markdown",
   "id": "smooth-sweden",
   "metadata": {},
   "source": [
    "<ol style=\"list-style-type:none;\">\n",
    "    <li>\n",
    "        <ul>\n",
    "            <li>Los valores de la función costo: el \n",
    "                elemento i de la lista representa el \n",
    "                valor de $J(\\Theta)$ en la iteración i.\n",
    "            </li>\n",
    "        </ul>\n",
    "    </li>\n",
    "</ol>"
   ]
  },
  {
   "cell_type": "code",
   "execution_count": null,
   "id": "molecular-defense",
   "metadata": {},
   "outputs": [],
   "source": [
    "fig2, ax2 = plt.subplots(figsize=(8,4), tight_layout = True)\n",
    "ax2.plot(clf.loss_curve_);"
   ]
  },
  {
   "cell_type": "markdown",
   "id": "cathedral-nancy",
   "metadata": {},
   "source": [
    "<ol start=\"6\">\n",
    "    <li>Se calculan los valores predichos de salida haciendo uso del modelo entrenado.\n",
    "    </li>\n",
    "</ol>"
   ]
  },
  {
   "cell_type": "code",
   "execution_count": null,
   "id": "recognized-education",
   "metadata": {},
   "outputs": [],
   "source": [
    "y_skl = clf.predict(X_noBias)"
   ]
  },
  {
   "cell_type": "markdown",
   "id": "aware-score",
   "metadata": {},
   "source": [
    "<ul>\n",
    "    <li>Utilizando los valores de $\\Theta$ obtenidos con sklearn, se calculan \n",
    "    los valores de salida haciendo uso de la propagación hacia adelante para \n",
    "    verificar su correcta implementación.</li>\n",
    "</ul>"
   ]
  },
  {
   "cell_type": "code",
   "execution_count": null,
   "id": "danish-brother",
   "metadata": {},
   "outputs": [],
   "source": [
    "t1 = np.vstack(((clf.intercepts_[0]), clf.coefs_[0]))\n",
    "t2 = np.vstack((clf.intercepts_[1], clf.coefs_[1]))\n",
    "h = predictor(t1, t2)\n",
    "j = costFunction(X, Y, t1, t2)\n",
    "j"
   ]
  },
  {
   "cell_type": "code",
   "execution_count": null,
   "id": "c83cd4ef-841e-42d9-9083-db222741f7a8",
   "metadata": {},
   "outputs": [],
   "source": [
    "skl = widgets.Output()\n",
    "\n",
    "with skl:\n",
    "    fig_p, ax_p = plt.subplots(figsize = (8, 4), tight_layout = True)\n",
    "    fig_p.suptitle(r'Hipótesis vs Valores de salida reales')\n",
    "    \n",
    "    ax_p.plot(np.arange(0, len(Y)), y_skl, 'b+', markersize = 8, label = 'Predicción con sklearn', alpha = 0.9)\n",
    "    \n",
    "    ax_p.scatter(np.arange(0, len(Y)), Y, marker = 'o', label = 'Salida real', alpha = 0.9, facecolors = 'none', edgecolors = 'g')\n",
    "    \n",
    "    lineh_skl, = ax_p.plot(np.arange(0, len(Y)), h, 'rx', markersize = 8, label = 'Predicción', alpha = 0.9)\n",
    "    \n",
    "    ax_p.grid(True)\n",
    "    ax_p.legend(loc=\"right\");\n",
    "\n",
    "widgets.VBox([skl],layout = layout) "
   ]
  }
 ],
 "metadata": {
  "kernelspec": {
   "display_name": "Python 3 (ipykernel)",
   "language": "python",
   "name": "python3"
  },
  "language_info": {
   "codemirror_mode": {
    "name": "ipython",
    "version": 3
   },
   "file_extension": ".py",
   "mimetype": "text/x-python",
   "name": "python",
   "nbconvert_exporter": "python",
   "pygments_lexer": "ipython3",
   "version": "3.9.7"
  }
 },
 "nbformat": 4,
 "nbformat_minor": 5
}
